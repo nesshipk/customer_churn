{
 "cells": [
  {
   "cell_type": "markdown",
   "id": "9315238b",
   "metadata": {},
   "source": [
    "# Model and Evaluation"
   ]
  },
  {
   "cell_type": "code",
   "execution_count": 1,
   "id": "4c55c13f",
   "metadata": {},
   "outputs": [
    {
     "name": "stdout",
     "output_type": "stream",
     "text": [
      "Requirement already satisfied: google-cloud in /opt/conda/lib/python3.7/site-packages (0.34.0)\n",
      "Note: you may need to restart the kernel to use updated packages.\n",
      "Requirement already satisfied: google-cloud-storage in /opt/conda/lib/python3.7/site-packages (1.38.0)\n",
      "Requirement already satisfied: google-auth<2.0dev,>=1.11.0 in /opt/conda/lib/python3.7/site-packages (from google-cloud-storage) (1.30.0)\n",
      "Requirement already satisfied: google-cloud-core<2.0dev,>=1.4.1 in /opt/conda/lib/python3.7/site-packages (from google-cloud-storage) (1.6.0)\n",
      "Requirement already satisfied: requests<3.0.0dev,>=2.18.0 in /opt/conda/lib/python3.7/site-packages (from google-cloud-storage) (2.25.1)\n",
      "Requirement already satisfied: google-resumable-media<2.0dev,>=1.2.0 in /opt/conda/lib/python3.7/site-packages (from google-cloud-storage) (1.2.0)\n",
      "Requirement already satisfied: pyasn1-modules>=0.2.1 in /opt/conda/lib/python3.7/site-packages (from google-auth<2.0dev,>=1.11.0->google-cloud-storage) (0.2.7)\n",
      "Requirement already satisfied: rsa<5,>=3.1.4 in /opt/conda/lib/python3.7/site-packages (from google-auth<2.0dev,>=1.11.0->google-cloud-storage) (4.7.2)\n",
      "Requirement already satisfied: six>=1.9.0 in /opt/conda/lib/python3.7/site-packages (from google-auth<2.0dev,>=1.11.0->google-cloud-storage) (1.16.0)\n",
      "Requirement already satisfied: setuptools>=40.3.0 in /opt/conda/lib/python3.7/site-packages (from google-auth<2.0dev,>=1.11.0->google-cloud-storage) (49.6.0.post20210108)\n",
      "Requirement already satisfied: cachetools<5.0,>=2.0.0 in /opt/conda/lib/python3.7/site-packages (from google-auth<2.0dev,>=1.11.0->google-cloud-storage) (4.2.2)\n",
      "Requirement already satisfied: google-api-core<2.0.0dev,>=1.21.0 in /opt/conda/lib/python3.7/site-packages (from google-cloud-core<2.0dev,>=1.4.1->google-cloud-storage) (1.26.3)\n",
      "Requirement already satisfied: googleapis-common-protos<2.0dev,>=1.6.0 in /opt/conda/lib/python3.7/site-packages (from google-api-core<2.0.0dev,>=1.21.0->google-cloud-core<2.0dev,>=1.4.1->google-cloud-storage) (1.53.0)\n",
      "Requirement already satisfied: pytz in /opt/conda/lib/python3.7/site-packages (from google-api-core<2.0.0dev,>=1.21.0->google-cloud-core<2.0dev,>=1.4.1->google-cloud-storage) (2021.1)\n",
      "Requirement already satisfied: protobuf>=3.12.0 in /opt/conda/lib/python3.7/site-packages (from google-api-core<2.0.0dev,>=1.21.0->google-cloud-core<2.0dev,>=1.4.1->google-cloud-storage) (3.16.0)\n",
      "Requirement already satisfied: packaging>=14.3 in /opt/conda/lib/python3.7/site-packages (from google-api-core<2.0.0dev,>=1.21.0->google-cloud-core<2.0dev,>=1.4.1->google-cloud-storage) (20.9)\n",
      "Requirement already satisfied: google-crc32c<2.0dev,>=1.0 in /opt/conda/lib/python3.7/site-packages (from google-resumable-media<2.0dev,>=1.2.0->google-cloud-storage) (1.1.2)\n",
      "Requirement already satisfied: cffi>=1.0.0 in /opt/conda/lib/python3.7/site-packages (from google-crc32c<2.0dev,>=1.0->google-resumable-media<2.0dev,>=1.2.0->google-cloud-storage) (1.14.5)\n",
      "Requirement already satisfied: pycparser in /opt/conda/lib/python3.7/site-packages (from cffi>=1.0.0->google-crc32c<2.0dev,>=1.0->google-resumable-media<2.0dev,>=1.2.0->google-cloud-storage) (2.20)\n",
      "Requirement already satisfied: pyparsing>=2.0.2 in /opt/conda/lib/python3.7/site-packages (from packaging>=14.3->google-api-core<2.0.0dev,>=1.21.0->google-cloud-core<2.0dev,>=1.4.1->google-cloud-storage) (2.4.7)\n",
      "Requirement already satisfied: pyasn1<0.5.0,>=0.4.6 in /opt/conda/lib/python3.7/site-packages (from pyasn1-modules>=0.2.1->google-auth<2.0dev,>=1.11.0->google-cloud-storage) (0.4.8)\n",
      "Requirement already satisfied: urllib3<1.27,>=1.21.1 in /opt/conda/lib/python3.7/site-packages (from requests<3.0.0dev,>=2.18.0->google-cloud-storage) (1.26.4)\n",
      "Requirement already satisfied: idna<3,>=2.5 in /opt/conda/lib/python3.7/site-packages (from requests<3.0.0dev,>=2.18.0->google-cloud-storage) (2.10)\n",
      "Requirement already satisfied: certifi>=2017.4.17 in /opt/conda/lib/python3.7/site-packages (from requests<3.0.0dev,>=2.18.0->google-cloud-storage) (2020.12.5)\n",
      "Requirement already satisfied: chardet<5,>=3.0.2 in /opt/conda/lib/python3.7/site-packages (from requests<3.0.0dev,>=2.18.0->google-cloud-storage) (4.0.0)\n",
      "Note: you may need to restart the kernel to use updated packages.\n",
      "Requirement already satisfied: pandas in /opt/conda/lib/python3.7/site-packages (1.2.4)\n",
      "Requirement already satisfied: python-dateutil>=2.7.3 in /opt/conda/lib/python3.7/site-packages (from pandas) (2.8.1)\n",
      "Requirement already satisfied: pytz>=2017.3 in /opt/conda/lib/python3.7/site-packages (from pandas) (2021.1)\n",
      "Requirement already satisfied: numpy>=1.16.5 in /opt/conda/lib/python3.7/site-packages (from pandas) (1.19.5)\n",
      "Requirement already satisfied: six>=1.5 in /opt/conda/lib/python3.7/site-packages (from python-dateutil>=2.7.3->pandas) (1.16.0)\n",
      "Note: you may need to restart the kernel to use updated packages.\n"
     ]
    }
   ],
   "source": [
    "%pip install google-cloud\n",
    "%pip install google-cloud-storage\n",
    "%pip install pandas\n",
    "from google.cloud import storage\n",
    "import pandas as pd"
   ]
  },
  {
   "cell_type": "code",
   "execution_count": 2,
   "id": "4c6f100d",
   "metadata": {},
   "outputs": [],
   "source": [
    "#load data_prep from cloud storage to jupyter notebook\n",
    "df = pd.read_csv('gs://churn-project/data_prep.csv')"
   ]
  },
  {
   "cell_type": "code",
   "execution_count": 3,
   "id": "25c69c6e",
   "metadata": {},
   "outputs": [
    {
     "data": {
      "text/html": [
       "<div>\n",
       "<style scoped>\n",
       "    .dataframe tbody tr th:only-of-type {\n",
       "        vertical-align: middle;\n",
       "    }\n",
       "\n",
       "    .dataframe tbody tr th {\n",
       "        vertical-align: top;\n",
       "    }\n",
       "\n",
       "    .dataframe thead th {\n",
       "        text-align: right;\n",
       "    }\n",
       "</style>\n",
       "<table border=\"1\" class=\"dataframe\">\n",
       "  <thead>\n",
       "    <tr style=\"text-align: right;\">\n",
       "      <th></th>\n",
       "      <th>Unnamed: 0</th>\n",
       "      <th>customerID</th>\n",
       "      <th>gender</th>\n",
       "      <th>SeniorCitizen</th>\n",
       "      <th>Partner</th>\n",
       "      <th>Dependents</th>\n",
       "      <th>tenure</th>\n",
       "      <th>PhoneService</th>\n",
       "      <th>PaperlessBilling</th>\n",
       "      <th>MonthlyCharges</th>\n",
       "      <th>...</th>\n",
       "      <th>TechSupport_Yes</th>\n",
       "      <th>StreamingTV_No internet service</th>\n",
       "      <th>StreamingTV_Yes</th>\n",
       "      <th>StreamingMovies_No internet service</th>\n",
       "      <th>StreamingMovies_Yes</th>\n",
       "      <th>Contract_One year</th>\n",
       "      <th>Contract_Two year</th>\n",
       "      <th>PaymentMethod_Credit card (automatic)</th>\n",
       "      <th>PaymentMethod_Electronic check</th>\n",
       "      <th>PaymentMethod_Mailed check</th>\n",
       "    </tr>\n",
       "  </thead>\n",
       "  <tbody>\n",
       "    <tr>\n",
       "      <th>0</th>\n",
       "      <td>0</td>\n",
       "      <td>7590-VHVEG</td>\n",
       "      <td>0</td>\n",
       "      <td>0</td>\n",
       "      <td>1</td>\n",
       "      <td>0</td>\n",
       "      <td>1</td>\n",
       "      <td>0</td>\n",
       "      <td>1</td>\n",
       "      <td>29.85</td>\n",
       "      <td>...</td>\n",
       "      <td>0</td>\n",
       "      <td>0</td>\n",
       "      <td>0</td>\n",
       "      <td>0</td>\n",
       "      <td>0</td>\n",
       "      <td>0</td>\n",
       "      <td>0</td>\n",
       "      <td>0</td>\n",
       "      <td>1</td>\n",
       "      <td>0</td>\n",
       "    </tr>\n",
       "    <tr>\n",
       "      <th>1</th>\n",
       "      <td>1</td>\n",
       "      <td>5575-GNVDE</td>\n",
       "      <td>1</td>\n",
       "      <td>0</td>\n",
       "      <td>0</td>\n",
       "      <td>0</td>\n",
       "      <td>34</td>\n",
       "      <td>1</td>\n",
       "      <td>0</td>\n",
       "      <td>56.95</td>\n",
       "      <td>...</td>\n",
       "      <td>0</td>\n",
       "      <td>0</td>\n",
       "      <td>0</td>\n",
       "      <td>0</td>\n",
       "      <td>0</td>\n",
       "      <td>1</td>\n",
       "      <td>0</td>\n",
       "      <td>0</td>\n",
       "      <td>0</td>\n",
       "      <td>1</td>\n",
       "    </tr>\n",
       "    <tr>\n",
       "      <th>2</th>\n",
       "      <td>2</td>\n",
       "      <td>3668-QPYBK</td>\n",
       "      <td>1</td>\n",
       "      <td>0</td>\n",
       "      <td>0</td>\n",
       "      <td>0</td>\n",
       "      <td>2</td>\n",
       "      <td>1</td>\n",
       "      <td>1</td>\n",
       "      <td>53.85</td>\n",
       "      <td>...</td>\n",
       "      <td>0</td>\n",
       "      <td>0</td>\n",
       "      <td>0</td>\n",
       "      <td>0</td>\n",
       "      <td>0</td>\n",
       "      <td>0</td>\n",
       "      <td>0</td>\n",
       "      <td>0</td>\n",
       "      <td>0</td>\n",
       "      <td>1</td>\n",
       "    </tr>\n",
       "    <tr>\n",
       "      <th>3</th>\n",
       "      <td>3</td>\n",
       "      <td>7795-CFOCW</td>\n",
       "      <td>1</td>\n",
       "      <td>0</td>\n",
       "      <td>0</td>\n",
       "      <td>0</td>\n",
       "      <td>45</td>\n",
       "      <td>0</td>\n",
       "      <td>0</td>\n",
       "      <td>42.30</td>\n",
       "      <td>...</td>\n",
       "      <td>1</td>\n",
       "      <td>0</td>\n",
       "      <td>0</td>\n",
       "      <td>0</td>\n",
       "      <td>0</td>\n",
       "      <td>1</td>\n",
       "      <td>0</td>\n",
       "      <td>0</td>\n",
       "      <td>0</td>\n",
       "      <td>0</td>\n",
       "    </tr>\n",
       "    <tr>\n",
       "      <th>4</th>\n",
       "      <td>4</td>\n",
       "      <td>9237-HQITU</td>\n",
       "      <td>0</td>\n",
       "      <td>0</td>\n",
       "      <td>0</td>\n",
       "      <td>0</td>\n",
       "      <td>2</td>\n",
       "      <td>1</td>\n",
       "      <td>1</td>\n",
       "      <td>70.70</td>\n",
       "      <td>...</td>\n",
       "      <td>0</td>\n",
       "      <td>0</td>\n",
       "      <td>0</td>\n",
       "      <td>0</td>\n",
       "      <td>0</td>\n",
       "      <td>0</td>\n",
       "      <td>0</td>\n",
       "      <td>0</td>\n",
       "      <td>1</td>\n",
       "      <td>0</td>\n",
       "    </tr>\n",
       "  </tbody>\n",
       "</table>\n",
       "<p>5 rows × 33 columns</p>\n",
       "</div>"
      ],
      "text/plain": [
       "   Unnamed: 0  customerID  gender  SeniorCitizen  Partner  Dependents  tenure  \\\n",
       "0           0  7590-VHVEG       0              0        1           0       1   \n",
       "1           1  5575-GNVDE       1              0        0           0      34   \n",
       "2           2  3668-QPYBK       1              0        0           0       2   \n",
       "3           3  7795-CFOCW       1              0        0           0      45   \n",
       "4           4  9237-HQITU       0              0        0           0       2   \n",
       "\n",
       "   PhoneService  PaperlessBilling  MonthlyCharges  ...  TechSupport_Yes  \\\n",
       "0             0                 1           29.85  ...                0   \n",
       "1             1                 0           56.95  ...                0   \n",
       "2             1                 1           53.85  ...                0   \n",
       "3             0                 0           42.30  ...                1   \n",
       "4             1                 1           70.70  ...                0   \n",
       "\n",
       "   StreamingTV_No internet service  StreamingTV_Yes  \\\n",
       "0                                0                0   \n",
       "1                                0                0   \n",
       "2                                0                0   \n",
       "3                                0                0   \n",
       "4                                0                0   \n",
       "\n",
       "   StreamingMovies_No internet service  StreamingMovies_Yes  \\\n",
       "0                                    0                    0   \n",
       "1                                    0                    0   \n",
       "2                                    0                    0   \n",
       "3                                    0                    0   \n",
       "4                                    0                    0   \n",
       "\n",
       "   Contract_One year  Contract_Two year  \\\n",
       "0                  0                  0   \n",
       "1                  1                  0   \n",
       "2                  0                  0   \n",
       "3                  1                  0   \n",
       "4                  0                  0   \n",
       "\n",
       "   PaymentMethod_Credit card (automatic)  PaymentMethod_Electronic check  \\\n",
       "0                                      0                               1   \n",
       "1                                      0                               0   \n",
       "2                                      0                               0   \n",
       "3                                      0                               0   \n",
       "4                                      0                               1   \n",
       "\n",
       "   PaymentMethod_Mailed check  \n",
       "0                           0  \n",
       "1                           1  \n",
       "2                           1  \n",
       "3                           0  \n",
       "4                           0  \n",
       "\n",
       "[5 rows x 33 columns]"
      ]
     },
     "execution_count": 3,
     "metadata": {},
     "output_type": "execute_result"
    }
   ],
   "source": [
    "df.head()"
   ]
  },
  {
   "cell_type": "code",
   "execution_count": 4,
   "id": "73bbd7c3",
   "metadata": {},
   "outputs": [
    {
     "data": {
      "image/png": "[encoded data removed]",
      "text/plain": [
       "<Figure size 2160x1080 with 2 Axes>"
      ]
     },
     "metadata": {
      "needs_background": "light"
     },
     "output_type": "display_data"
    }
   ],
   "source": [
    "#create correlation plot\n",
    "import seaborn as sns\n",
    "import matplotlib.pyplot as plt\n",
    "plt.figure(figsize = (30,15))      \n",
    "sns.heatmap(df.corr(),annot = True)\n",
    "plt.show()"
   ]
  },
  {
   "cell_type": "code",
   "execution_count": 5,
   "id": "9d6dd95b",
   "metadata": {},
   "outputs": [
    {
     "data": {
      "image/png": "[encoded data removed]",
      "text/plain": [
       "<Figure size 1152x576 with 1 Axes>"
      ]
     },
     "metadata": {
      "needs_background": "light"
     },
     "output_type": "display_data"
    }
   ],
   "source": [
    "import matplotlib.pyplot as plt\n",
    "%matplotlib inline\n",
    "plt.figure(figsize=(16,8))\n",
    "df.corr()['Churn'].sort_values(ascending = False).plot(kind='bar')\n",
    "plt.show()"
   ]
  },
  {
   "cell_type": "code",
   "execution_count": 6,
   "id": "4f5476e7",
   "metadata": {},
   "outputs": [
    {
     "data": {
      "text/plain": [
       "(-0.008544643224946243, 0.47373573732654467)"
      ]
     },
     "execution_count": 6,
     "metadata": {},
     "output_type": "execute_result"
    }
   ],
   "source": [
    "import scipy.stats\n",
    "# 1. gender\n",
    "corr = scipy.stats.pearsonr(df.gender,df.Churn)\n",
    "corr\n",
    "# p-value > 0.05 "
   ]
  },
  {
   "cell_type": "code",
   "execution_count": 7,
   "id": "58925404",
   "metadata": {},
   "outputs": [
    {
     "data": {
      "text/plain": [
       "(0.011691398865421575, 0.32695528135874624)"
      ]
     },
     "execution_count": 7,
     "metadata": {},
     "output_type": "execute_result"
    }
   ],
   "source": [
    "# 2. PhoneService\n",
    "corr = scipy.stats.pearsonr(df.PhoneService,df.Churn)\n",
    "corr\n",
    "# p-value > 0.05"
   ]
  },
  {
   "cell_type": "code",
   "execution_count": 8,
   "id": "b855c791",
   "metadata": {},
   "outputs": [
    {
     "data": {
      "text/plain": [
       "(-0.011691398865421568, 0.32695528135874624)"
      ]
     },
     "execution_count": 8,
     "metadata": {},
     "output_type": "execute_result"
    }
   ],
   "source": [
    "# 3. MultipleLines_No phone service\n",
    "corr = scipy.stats.pearsonr(df['MultipleLines_No phone service'],df.Churn)\n",
    "corr\n",
    "# p-value > 0.05"
   ]
  },
  {
   "cell_type": "code",
   "execution_count": 9,
   "id": "ce377a35",
   "metadata": {},
   "outputs": [
    {
     "data": {
      "text/plain": [
       "(0.04003273987252132, 0.0007857240573236339)"
      ]
     },
     "execution_count": 9,
     "metadata": {},
     "output_type": "execute_result"
    }
   ],
   "source": [
    "# 4. MultipleLines_Yes\n",
    "corr = scipy.stats.pearsonr(df['MultipleLines_Yes'],df.Churn)\n",
    "corr\n",
    "# p-value < 0.05"
   ]
  },
  {
   "cell_type": "code",
   "execution_count": 10,
   "id": "5a5f86ae",
   "metadata": {},
   "outputs": [
    {
     "name": "stdout",
     "output_type": "stream",
     "text": [
      "Requirement already satisfied: scikit-learn in /opt/conda/lib/python3.7/site-packages (0.24.2)\n",
      "Requirement already satisfied: numpy>=1.13.3 in /opt/conda/lib/python3.7/site-packages (from scikit-learn) (1.19.5)\n",
      "Requirement already satisfied: joblib>=0.11 in /opt/conda/lib/python3.7/site-packages (from scikit-learn) (1.0.1)\n",
      "Requirement already satisfied: scipy>=0.19.1 in /opt/conda/lib/python3.7/site-packages (from scikit-learn) (1.6.3)\n",
      "Requirement already satisfied: threadpoolctl>=2.0.0 in /opt/conda/lib/python3.7/site-packages (from scikit-learn) (2.1.0)\n",
      "Note: you may need to restart the kernel to use updated packages.\n"
     ]
    }
   ],
   "source": [
    "%pip install -U scikit-learn\n",
    "from sklearn.model_selection import train_test_split\n",
    "from sklearn.linear_model import LogisticRegression\n",
    "from sklearn.model_selection import cross_val_score\n",
    "from sklearn import metrics"
   ]
  },
  {
   "cell_type": "code",
   "execution_count": 11,
   "id": "7ca3ae08",
   "metadata": {},
   "outputs": [],
   "source": [
    "#not bring Unnamed: 0,customerID, gender, PhoneService and MultipleLines_No phone service into model \n",
    "X = df.drop(['Unnamed: 0','customerID','gender','PhoneService','MultipleLines_No phone service',\n",
    "             'InternetService_No','OnlineSecurity_No internet service',\n",
    "             'OnlineBackup_No internet service','DeviceProtection_No internet service',\n",
    "             'TechSupport_No internet service','StreamingTV_No internet service', \n",
    "             'StreamingMovies_No internet service','Churn'] ,axis='columns')\n",
    "y = df['Churn']\n",
    "X_train, X_test, y_train, y_test = train_test_split(X, y, train_size=0.8, test_size=0.2, random_state=20)"
   ]
  },
  {
   "cell_type": "code",
   "execution_count": 12,
   "id": "9c0d4b5f",
   "metadata": {},
   "outputs": [
    {
     "name": "stdout",
     "output_type": "stream",
     "text": [
      "<class 'pandas.core.frame.DataFrame'>\n",
      "Int64Index: 5625 entries, 3966 to 2522\n",
      "Data columns (total 20 columns):\n",
      " #   Column                                 Non-Null Count  Dtype  \n",
      "---  ------                                 --------------  -----  \n",
      " 0   SeniorCitizen                          5625 non-null   int64  \n",
      " 1   Partner                                5625 non-null   int64  \n",
      " 2   Dependents                             5625 non-null   int64  \n",
      " 3   tenure                                 5625 non-null   int64  \n",
      " 4   PaperlessBilling                       5625 non-null   int64  \n",
      " 5   MonthlyCharges                         5625 non-null   float64\n",
      " 6   TotalCharges                           5625 non-null   float64\n",
      " 7   MultipleLines_Yes                      5625 non-null   int64  \n",
      " 8   InternetService_Fiber optic            5625 non-null   int64  \n",
      " 9   OnlineSecurity_Yes                     5625 non-null   int64  \n",
      " 10  OnlineBackup_Yes                       5625 non-null   int64  \n",
      " 11  DeviceProtection_Yes                   5625 non-null   int64  \n",
      " 12  TechSupport_Yes                        5625 non-null   int64  \n",
      " 13  StreamingTV_Yes                        5625 non-null   int64  \n",
      " 14  StreamingMovies_Yes                    5625 non-null   int64  \n",
      " 15  Contract_One year                      5625 non-null   int64  \n",
      " 16  Contract_Two year                      5625 non-null   int64  \n",
      " 17  PaymentMethod_Credit card (automatic)  5625 non-null   int64  \n",
      " 18  PaymentMethod_Electronic check         5625 non-null   int64  \n",
      " 19  PaymentMethod_Mailed check             5625 non-null   int64  \n",
      "dtypes: float64(2), int64(18)\n",
      "memory usage: 922.9 KB\n"
     ]
    }
   ],
   "source": [
    "X_train.info()"
   ]
  },
  {
   "cell_type": "code",
   "execution_count": 13,
   "id": "0c1f76ba",
   "metadata": {},
   "outputs": [],
   "source": [
    "model = LogisticRegression(solver='lbfgs', max_iter=500)"
   ]
  },
  {
   "cell_type": "code",
   "execution_count": 14,
   "id": "f529b487",
   "metadata": {},
   "outputs": [
    {
     "data": {
      "text/plain": [
       "0.7982222222222223"
      ]
     },
     "execution_count": 14,
     "metadata": {},
     "output_type": "execute_result"
    }
   ],
   "source": [
    "model = LogisticRegression(solver='lbfgs', max_iter=500)\n",
    "model.fit(X_train, y_train)\n",
    "model.score(X_train, y_train)"
   ]
  },
  {
   "cell_type": "code",
   "execution_count": 15,
   "id": "08f0fcf7",
   "metadata": {},
   "outputs": [
    {
     "data": {
      "text/plain": [
       "array([[922, 120],\n",
       "       [159, 206]])"
      ]
     },
     "execution_count": 15,
     "metadata": {},
     "output_type": "execute_result"
    }
   ],
   "source": [
    "metrics.confusion_matrix(y_test, model.predict(X_test))"
   ]
  },
  {
   "cell_type": "code",
   "execution_count": 16,
   "id": "818a1534",
   "metadata": {},
   "outputs": [
    {
     "data": {
      "text/plain": [
       "0.8017057569296375"
      ]
     },
     "execution_count": 16,
     "metadata": {},
     "output_type": "execute_result"
    }
   ],
   "source": [
    "metrics.accuracy_score(y_test, model.predict(X_test))"
   ]
  },
  {
   "cell_type": "code",
   "execution_count": 17,
   "id": "22e4e204",
   "metadata": {},
   "outputs": [
    {
     "name": "stdout",
     "output_type": "stream",
     "text": [
      "              precision    recall  f1-score   support\n",
      "\n",
      "           0       0.85      0.88      0.87      1042\n",
      "           1       0.63      0.56      0.60       365\n",
      "\n",
      "    accuracy                           0.80      1407\n",
      "   macro avg       0.74      0.72      0.73      1407\n",
      "weighted avg       0.80      0.80      0.80      1407\n",
      "\n"
     ]
    }
   ],
   "source": [
    "from sklearn.metrics import confusion_matrix , classification_report\n",
    "print(classification_report(y_test,model.predict(X_test)))"
   ]
  },
  {
   "cell_type": "code",
   "execution_count": 18,
   "id": "432277b7",
   "metadata": {},
   "outputs": [
    {
     "data": {
      "text/plain": [
       "0      1.375866\n",
       "1      2.833565\n",
       "2      1.961732\n",
       "3     15.872841\n",
       "4      2.918609\n",
       "5     38.515298\n",
       "6     17.413823\n",
       "7      2.671748\n",
       "8      8.806129\n",
       "9      2.162190\n",
       "10     2.363046\n",
       "11     2.440090\n",
       "12     2.269508\n",
       "13     3.158863\n",
       "14     3.213663\n",
       "15     1.929123\n",
       "16     3.178950\n",
       "17     1.853440\n",
       "18     2.743710\n",
       "19     1.872552\n",
       "Name: VIF, dtype: float64"
      ]
     },
     "execution_count": 18,
     "metadata": {},
     "output_type": "execute_result"
    }
   ],
   "source": [
    "from statsmodels.stats.outliers_influence import variance_inflation_factor\n",
    "vif = pd.DataFrame()\n",
    "vif['Features'] = X_train.columns\n",
    "vif['VIF'] = [variance_inflation_factor(X_train.values, i) for i in range(len(X_train.columns))]\n",
    "vif['VIF'] "
   ]
  },
  {
   "cell_type": "code",
   "execution_count": 19,
   "id": "308c86e7",
   "metadata": {},
   "outputs": [
    {
     "data": {
      "text/plain": [
       "Index(['SeniorCitizen', 'Partner', 'Dependents', 'tenure', 'PaperlessBilling',\n",
       "       'MonthlyCharges', 'TotalCharges', 'MultipleLines_Yes',\n",
       "       'InternetService_Fiber optic', 'OnlineSecurity_Yes', 'OnlineBackup_Yes',\n",
       "       'DeviceProtection_Yes', 'TechSupport_Yes', 'StreamingTV_Yes',\n",
       "       'StreamingMovies_Yes', 'Contract_One year', 'Contract_Two year',\n",
       "       'PaymentMethod_Credit card (automatic)',\n",
       "       'PaymentMethod_Electronic check', 'PaymentMethod_Mailed check'],\n",
       "      dtype='object')"
      ]
     },
     "execution_count": 19,
     "metadata": {},
     "output_type": "execute_result"
    }
   ],
   "source": [
    "X_train.columns "
   ]
  },
  {
   "cell_type": "code",
   "execution_count": 20,
   "id": "989942dc",
   "metadata": {},
   "outputs": [],
   "source": [
    "#drop high vif\n",
    "X_train_2 = X_train.drop(['MonthlyCharges'] ,axis='columns')\n",
    "X_test_2 = X_test.drop(['MonthlyCharges'] ,axis='columns')"
   ]
  },
  {
   "cell_type": "code",
   "execution_count": 21,
   "id": "c96deebe",
   "metadata": {},
   "outputs": [
    {
     "data": {
      "text/plain": [
       "0.8014222222222223"
      ]
     },
     "execution_count": 21,
     "metadata": {},
     "output_type": "execute_result"
    }
   ],
   "source": [
    "model.fit(X_train_2, y_train)\n",
    "model.score(X_train_2, y_train)"
   ]
  },
  {
   "cell_type": "code",
   "execution_count": 22,
   "id": "e2f9eb48",
   "metadata": {},
   "outputs": [
    {
     "data": {
      "text/plain": [
       "array([[923, 119],\n",
       "       [159, 206]])"
      ]
     },
     "execution_count": 22,
     "metadata": {},
     "output_type": "execute_result"
    }
   ],
   "source": [
    "metrics.confusion_matrix(y_test, model.predict(X_test_2))"
   ]
  },
  {
   "cell_type": "code",
   "execution_count": 23,
   "id": "0ddc5ead",
   "metadata": {},
   "outputs": [
    {
     "data": {
      "text/plain": [
       "0.8024164889836531"
      ]
     },
     "execution_count": 23,
     "metadata": {},
     "output_type": "execute_result"
    }
   ],
   "source": [
    "#final model 2 \n",
    "metrics.accuracy_score(y_test, model.predict(X_test_2))"
   ]
  },
  {
   "cell_type": "code",
   "execution_count": 24,
   "id": "03883c85",
   "metadata": {},
   "outputs": [
    {
     "name": "stdout",
     "output_type": "stream",
     "text": [
      "              precision    recall  f1-score   support\n",
      "\n",
      "           0       0.85      0.89      0.87      1042\n",
      "           1       0.63      0.56      0.60       365\n",
      "\n",
      "    accuracy                           0.80      1407\n",
      "   macro avg       0.74      0.73      0.73      1407\n",
      "weighted avg       0.80      0.80      0.80      1407\n",
      "\n"
     ]
    }
   ],
   "source": [
    "from sklearn.metrics import confusion_matrix , classification_report\n",
    "print(classification_report(y_test,model.predict(X_test_2)))"
   ]
  },
  {
   "cell_type": "code",
   "execution_count": 25,
   "id": "524809c6",
   "metadata": {},
   "outputs": [
    {
     "data": {
      "text/plain": [
       "0      1.372444\n",
       "1      2.820074\n",
       "2      1.947476\n",
       "3     14.999978\n",
       "4      2.710508\n",
       "5     16.609214\n",
       "6      2.356952\n",
       "7      3.400177\n",
       "8      1.812915\n",
       "9      2.137647\n",
       "10     2.241759\n",
       "11     1.953781\n",
       "12     2.713725\n",
       "13     2.776221\n",
       "14     1.928517\n",
       "15     3.161289\n",
       "16     1.640283\n",
       "17     2.229818\n",
       "18     1.414247\n",
       "Name: VIF, dtype: float64"
      ]
     },
     "execution_count": 25,
     "metadata": {},
     "output_type": "execute_result"
    }
   ],
   "source": [
    "from statsmodels.stats.outliers_influence import variance_inflation_factor\n",
    "vif = pd.DataFrame()\n",
    "vif['Features'] = X_train_2.columns\n",
    "vif['VIF'] = [variance_inflation_factor(X_train_2.values, i) for i in range(len(X_train_2.columns))]\n",
    "vif['VIF'] "
   ]
  },
  {
   "cell_type": "code",
   "execution_count": 26,
   "id": "7accd8f7",
   "metadata": {},
   "outputs": [
    {
     "data": {
      "text/plain": [
       "Index(['SeniorCitizen', 'Partner', 'Dependents', 'tenure', 'PaperlessBilling',\n",
       "       'TotalCharges', 'MultipleLines_Yes', 'InternetService_Fiber optic',\n",
       "       'OnlineSecurity_Yes', 'OnlineBackup_Yes', 'DeviceProtection_Yes',\n",
       "       'TechSupport_Yes', 'StreamingTV_Yes', 'StreamingMovies_Yes',\n",
       "       'Contract_One year', 'Contract_Two year',\n",
       "       'PaymentMethod_Credit card (automatic)',\n",
       "       'PaymentMethod_Electronic check', 'PaymentMethod_Mailed check'],\n",
       "      dtype='object')"
      ]
     },
     "execution_count": 26,
     "metadata": {},
     "output_type": "execute_result"
    }
   ],
   "source": [
    "X_train_2.columns"
   ]
  },
  {
   "cell_type": "code",
   "execution_count": 27,
   "id": "c217e40f",
   "metadata": {},
   "outputs": [],
   "source": [
    "#drop high vif\n",
    "X_train_3 = X_train.drop(['MonthlyCharges','TotalCharges'] ,axis='columns')\n",
    "X_test_3 = X_test.drop(['MonthlyCharges','TotalCharges'] ,axis='columns')"
   ]
  },
  {
   "cell_type": "code",
   "execution_count": 28,
   "id": "81f53430",
   "metadata": {},
   "outputs": [
    {
     "data": {
      "text/plain": [
       "0.8021333333333334"
      ]
     },
     "execution_count": 28,
     "metadata": {},
     "output_type": "execute_result"
    }
   ],
   "source": [
    "model.fit(X_train_3, y_train)\n",
    "model.score(X_train_3, y_train)"
   ]
  },
  {
   "cell_type": "code",
   "execution_count": 29,
   "id": "7c9d7301",
   "metadata": {},
   "outputs": [
    {
     "data": {
      "text/plain": [
       "array([[922, 120],\n",
       "       [161, 204]])"
      ]
     },
     "execution_count": 29,
     "metadata": {},
     "output_type": "execute_result"
    }
   ],
   "source": [
    "metrics.confusion_matrix(y_test, model.predict(X_test_3))"
   ]
  },
  {
   "cell_type": "code",
   "execution_count": 30,
   "id": "13093f22",
   "metadata": {},
   "outputs": [
    {
     "data": {
      "text/plain": [
       "0.8002842928216063"
      ]
     },
     "execution_count": 30,
     "metadata": {},
     "output_type": "execute_result"
    }
   ],
   "source": [
    "#final model 3\n",
    "metrics.accuracy_score(y_test, model.predict(X_test_3))"
   ]
  },
  {
   "cell_type": "code",
   "execution_count": 31,
   "id": "3885e21e",
   "metadata": {},
   "outputs": [
    {
     "name": "stdout",
     "output_type": "stream",
     "text": [
      "              precision    recall  f1-score   support\n",
      "\n",
      "           0       0.85      0.88      0.87      1042\n",
      "           1       0.63      0.56      0.59       365\n",
      "\n",
      "    accuracy                           0.80      1407\n",
      "   macro avg       0.74      0.72      0.73      1407\n",
      "weighted avg       0.79      0.80      0.80      1407\n",
      "\n"
     ]
    }
   ],
   "source": [
    "from sklearn.metrics import confusion_matrix , classification_report\n",
    "print(classification_report(y_test,model.predict(X_test_3)))"
   ]
  },
  {
   "cell_type": "code",
   "execution_count": 32,
   "id": "e6a687f1",
   "metadata": {},
   "outputs": [
    {
     "data": {
      "text/plain": [
       "0     1.368632\n",
       "1     2.818457\n",
       "2     1.937611\n",
       "3     7.129092\n",
       "4     2.655310\n",
       "5     2.290586\n",
       "6     2.813020\n",
       "7     1.741986\n",
       "8     2.004163\n",
       "9     2.144156\n",
       "10    1.886866\n",
       "11    2.582016\n",
       "12    2.634311\n",
       "13    1.917666\n",
       "14    3.094172\n",
       "15    1.572094\n",
       "16    1.992991\n",
       "17    1.304793\n",
       "Name: VIF, dtype: float64"
      ]
     },
     "execution_count": 32,
     "metadata": {},
     "output_type": "execute_result"
    }
   ],
   "source": [
    "from statsmodels.stats.outliers_influence import variance_inflation_factor\n",
    "vif = pd.DataFrame()\n",
    "vif['Features'] = X_train_3.columns\n",
    "vif['VIF'] = [variance_inflation_factor(X_train_3.values, i) for i in range(len(X_train_3.columns))]\n",
    "vif['VIF'] "
   ]
  },
  {
   "cell_type": "code",
   "execution_count": 33,
   "id": "a0b84ca0",
   "metadata": {},
   "outputs": [
    {
     "data": {
      "text/plain": [
       "array([-0.87930902])"
      ]
     },
     "execution_count": 33,
     "metadata": {},
     "output_type": "execute_result"
    }
   ],
   "source": [
    "model.intercept_"
   ]
  },
  {
   "cell_type": "code",
   "execution_count": 34,
   "id": "6e2e620e",
   "metadata": {},
   "outputs": [
    {
     "data": {
      "text/plain": [
       "array([[ 0.19041693,  0.12363649, -0.21545141, -0.03649214,  0.39631337,\n",
       "         0.19891966,  0.92469087, -0.1877501 , -0.02423762,  0.05508158,\n",
       "        -0.28251591,  0.32714518,  0.42016308, -0.7840843 , -1.50236984,\n",
       "        -0.07974597,  0.36848238, -0.11989494]])"
      ]
     },
     "execution_count": 34,
     "metadata": {},
     "output_type": "execute_result"
    }
   ],
   "source": [
    "model.coef_"
   ]
  },
  {
   "cell_type": "markdown",
   "id": "95402767",
   "metadata": {},
   "source": [
    "# Feature Engineering"
   ]
  },
  {
   "cell_type": "markdown",
   "id": "d3c8d385",
   "metadata": {},
   "source": [
    "### 1. remove SeniorCitizen"
   ]
  },
  {
   "cell_type": "code",
   "execution_count": 35,
   "id": "4db43393",
   "metadata": {},
   "outputs": [],
   "source": [
    "X_train_4 = X_train.drop(['MonthlyCharges','TotalCharges','SeniorCitizen'] ,axis='columns')\n",
    "X_test_4 = X_test.drop(['MonthlyCharges','TotalCharges','SeniorCitizen'] ,axis='columns')"
   ]
  },
  {
   "cell_type": "code",
   "execution_count": 36,
   "id": "fbadd178",
   "metadata": {},
   "outputs": [
    {
     "data": {
      "text/plain": [
       "0.7992888888888889"
      ]
     },
     "execution_count": 36,
     "metadata": {},
     "output_type": "execute_result"
    }
   ],
   "source": [
    "model.fit(X_train_4, y_train)\n",
    "model.score(X_train_4, y_train)"
   ]
  },
  {
   "cell_type": "code",
   "execution_count": 37,
   "id": "08450972",
   "metadata": {},
   "outputs": [
    {
     "data": {
      "text/plain": [
       "array([[922, 120],\n",
       "       [163, 202]])"
      ]
     },
     "execution_count": 37,
     "metadata": {},
     "output_type": "execute_result"
    }
   ],
   "source": [
    "metrics.confusion_matrix(y_test, model.predict(X_test_4))"
   ]
  },
  {
   "cell_type": "code",
   "execution_count": 38,
   "id": "2f7b30bf",
   "metadata": {},
   "outputs": [
    {
     "data": {
      "text/plain": [
       "0.798862828713575"
      ]
     },
     "execution_count": 38,
     "metadata": {},
     "output_type": "execute_result"
    }
   ],
   "source": [
    "metrics.accuracy_score(y_test, model.predict(X_test_4))"
   ]
  },
  {
   "cell_type": "code",
   "execution_count": 39,
   "id": "3d795af9",
   "metadata": {},
   "outputs": [
    {
     "name": "stdout",
     "output_type": "stream",
     "text": [
      "              precision    recall  f1-score   support\n",
      "\n",
      "           0       0.85      0.88      0.87      1042\n",
      "           1       0.63      0.55      0.59       365\n",
      "\n",
      "    accuracy                           0.80      1407\n",
      "   macro avg       0.74      0.72      0.73      1407\n",
      "weighted avg       0.79      0.80      0.79      1407\n",
      "\n"
     ]
    }
   ],
   "source": [
    "print(classification_report(y_test,model.predict(X_test_4)))"
   ]
  },
  {
   "cell_type": "code",
   "execution_count": 40,
   "id": "4ee5a723",
   "metadata": {},
   "outputs": [
    {
     "data": {
      "text/plain": [
       "0     2.784018\n",
       "1     1.877324\n",
       "2     7.089508\n",
       "3     2.640806\n",
       "4     2.285777\n",
       "5     2.779845\n",
       "6     1.741643\n",
       "7     2.002616\n",
       "8     2.143937\n",
       "9     1.878922\n",
       "10    2.582007\n",
       "11    2.633260\n",
       "12    1.910788\n",
       "13    3.075402\n",
       "14    1.567828\n",
       "15    1.967589\n",
       "16    1.302265\n",
       "Name: VIF, dtype: float64"
      ]
     },
     "execution_count": 40,
     "metadata": {},
     "output_type": "execute_result"
    }
   ],
   "source": [
    "from statsmodels.stats.outliers_influence import variance_inflation_factor\n",
    "vif = pd.DataFrame()\n",
    "vif['Features'] = X_train_4.columns\n",
    "vif['VIF'] = [variance_inflation_factor(X_train_4.values, i) for i in range(len(X_train_4.columns))]\n",
    "vif['VIF'] "
   ]
  },
  {
   "cell_type": "markdown",
   "id": "10944415",
   "metadata": {},
   "source": [
    "### 2. remove Partner"
   ]
  },
  {
   "cell_type": "code",
   "execution_count": 41,
   "id": "df8794ed",
   "metadata": {},
   "outputs": [],
   "source": [
    "X_train_4 = X_train.drop(['MonthlyCharges','TotalCharges','Partner'] ,axis='columns')\n",
    "X_test_4 = X_test.drop(['MonthlyCharges','TotalCharges','Partner'] ,axis='columns')"
   ]
  },
  {
   "cell_type": "code",
   "execution_count": 42,
   "id": "c28bee23",
   "metadata": {},
   "outputs": [
    {
     "data": {
      "text/plain": [
       "0.7998222222222222"
      ]
     },
     "execution_count": 42,
     "metadata": {},
     "output_type": "execute_result"
    }
   ],
   "source": [
    "model.fit(X_train_4, y_train)\n",
    "model.score(X_train_4, y_train)"
   ]
  },
  {
   "cell_type": "code",
   "execution_count": 43,
   "id": "51c7102a",
   "metadata": {},
   "outputs": [
    {
     "data": {
      "text/plain": [
       "array([[927, 115],\n",
       "       [159, 206]])"
      ]
     },
     "execution_count": 43,
     "metadata": {},
     "output_type": "execute_result"
    }
   ],
   "source": [
    "metrics.confusion_matrix(y_test, model.predict(X_test_4))"
   ]
  },
  {
   "cell_type": "code",
   "execution_count": 44,
   "id": "b7e932b9",
   "metadata": {},
   "outputs": [
    {
     "data": {
      "text/plain": [
       "0.8052594171997157"
      ]
     },
     "execution_count": 44,
     "metadata": {},
     "output_type": "execute_result"
    }
   ],
   "source": [
    "metrics.accuracy_score(y_test, model.predict(X_test_4))"
   ]
  },
  {
   "cell_type": "code",
   "execution_count": 45,
   "id": "6118e675",
   "metadata": {},
   "outputs": [
    {
     "name": "stdout",
     "output_type": "stream",
     "text": [
      "              precision    recall  f1-score   support\n",
      "\n",
      "           0       0.85      0.89      0.87      1042\n",
      "           1       0.64      0.56      0.60       365\n",
      "\n",
      "    accuracy                           0.81      1407\n",
      "   macro avg       0.75      0.73      0.74      1407\n",
      "weighted avg       0.80      0.81      0.80      1407\n",
      "\n"
     ]
    }
   ],
   "source": [
    "print(classification_report(y_test,model.predict(X_test_4)))"
   ]
  },
  {
   "cell_type": "code",
   "execution_count": 46,
   "id": "75179a68",
   "metadata": {},
   "outputs": [
    {
     "data": {
      "text/plain": [
       "0     1.351909\n",
       "1     1.512260\n",
       "2     6.741795\n",
       "3     2.653782\n",
       "4     2.288996\n",
       "5     2.810556\n",
       "6     1.741484\n",
       "7     2.004144\n",
       "8     2.143185\n",
       "9     1.886602\n",
       "10    2.581755\n",
       "11    2.633152\n",
       "12    1.916522\n",
       "13    3.093326\n",
       "14    1.571953\n",
       "15    1.988825\n",
       "16    1.303508\n",
       "Name: VIF, dtype: float64"
      ]
     },
     "execution_count": 46,
     "metadata": {},
     "output_type": "execute_result"
    }
   ],
   "source": [
    "from statsmodels.stats.outliers_influence import variance_inflation_factor\n",
    "vif = pd.DataFrame()\n",
    "vif['Features'] = X_train_4.columns\n",
    "vif['VIF'] = [variance_inflation_factor(X_train_4.values, i) for i in range(len(X_train_4.columns))]\n",
    "vif['VIF'] "
   ]
  },
  {
   "cell_type": "markdown",
   "id": "cf07fe49",
   "metadata": {},
   "source": [
    "### 3. Remove Dependents"
   ]
  },
  {
   "cell_type": "code",
   "execution_count": 47,
   "id": "6e963f51",
   "metadata": {},
   "outputs": [],
   "source": [
    "X_train_4 = X_train.drop(['MonthlyCharges','TotalCharges','Dependents'] ,axis='columns')\n",
    "X_test_4 = X_test.drop(['MonthlyCharges','TotalCharges','Dependents'] ,axis='columns')"
   ]
  },
  {
   "cell_type": "code",
   "execution_count": 48,
   "id": "7363a266",
   "metadata": {},
   "outputs": [
    {
     "data": {
      "text/plain": [
       "0.8016"
      ]
     },
     "execution_count": 48,
     "metadata": {},
     "output_type": "execute_result"
    }
   ],
   "source": [
    "model.fit(X_train_4, y_train)\n",
    "model.score(X_train_4, y_train)"
   ]
  },
  {
   "cell_type": "code",
   "execution_count": 49,
   "id": "c7c96b9d",
   "metadata": {},
   "outputs": [
    {
     "data": {
      "text/plain": [
       "array([[926, 116],\n",
       "       [157, 208]])"
      ]
     },
     "execution_count": 49,
     "metadata": {},
     "output_type": "execute_result"
    }
   ],
   "source": [
    "metrics.confusion_matrix(y_test, model.predict(X_test_4))"
   ]
  },
  {
   "cell_type": "code",
   "execution_count": 50,
   "id": "66c65477",
   "metadata": {},
   "outputs": [
    {
     "data": {
      "text/plain": [
       "0.8059701492537313"
      ]
     },
     "execution_count": 50,
     "metadata": {},
     "output_type": "execute_result"
    }
   ],
   "source": [
    "metrics.accuracy_score(y_test, model.predict(X_test_4))"
   ]
  },
  {
   "cell_type": "code",
   "execution_count": 51,
   "id": "7a802581",
   "metadata": {},
   "outputs": [
    {
     "name": "stdout",
     "output_type": "stream",
     "text": [
      "              precision    recall  f1-score   support\n",
      "\n",
      "           0       0.86      0.89      0.87      1042\n",
      "           1       0.64      0.57      0.60       365\n",
      "\n",
      "    accuracy                           0.81      1407\n",
      "   macro avg       0.75      0.73      0.74      1407\n",
      "weighted avg       0.80      0.81      0.80      1407\n",
      "\n"
     ]
    }
   ],
   "source": [
    "print(classification_report(y_test,model.predict(X_test_4)))"
   ]
  },
  {
   "cell_type": "code",
   "execution_count": 52,
   "id": "2d6f6117",
   "metadata": {},
   "outputs": [
    {
     "data": {
      "text/plain": [
       "0     1.326049\n",
       "1     2.199740\n",
       "2     7.128104\n",
       "3     2.654424\n",
       "4     2.290384\n",
       "5     2.810187\n",
       "6     1.740836\n",
       "7     2.004062\n",
       "8     2.143501\n",
       "9     1.886860\n",
       "10    2.582001\n",
       "11    2.632466\n",
       "12    1.910086\n",
       "13    3.071295\n",
       "14    1.559898\n",
       "15    1.978658\n",
       "16    1.273495\n",
       "Name: VIF, dtype: float64"
      ]
     },
     "execution_count": 52,
     "metadata": {},
     "output_type": "execute_result"
    }
   ],
   "source": [
    "from statsmodels.stats.outliers_influence import variance_inflation_factor\n",
    "vif = pd.DataFrame()\n",
    "vif['Features'] = X_train_4.columns\n",
    "vif['VIF'] = [variance_inflation_factor(X_train_4.values, i) for i in range(len(X_train_4.columns))]\n",
    "vif['VIF'] "
   ]
  },
  {
   "cell_type": "markdown",
   "id": "05d13c5b",
   "metadata": {},
   "source": [
    "### 4. remove tenure"
   ]
  },
  {
   "cell_type": "code",
   "execution_count": 53,
   "id": "fcf80e14",
   "metadata": {},
   "outputs": [],
   "source": [
    "X_train_4 = X_train.drop(['MonthlyCharges','TotalCharges','tenure'] ,axis='columns')\n",
    "X_test_4 = X_test.drop(['MonthlyCharges','TotalCharges','tenure'] ,axis='columns')"
   ]
  },
  {
   "cell_type": "code",
   "execution_count": 54,
   "id": "a4ff6c32",
   "metadata": {},
   "outputs": [
    {
     "data": {
      "text/plain": [
       "0.7831111111111111"
      ]
     },
     "execution_count": 54,
     "metadata": {},
     "output_type": "execute_result"
    }
   ],
   "source": [
    "model.fit(X_train_4, y_train)\n",
    "model.score(X_train_4, y_train)"
   ]
  },
  {
   "cell_type": "code",
   "execution_count": 55,
   "id": "c5bb846e",
   "metadata": {},
   "outputs": [
    {
     "data": {
      "text/plain": [
       "array([[918, 124],\n",
       "       [183, 182]])"
      ]
     },
     "execution_count": 55,
     "metadata": {},
     "output_type": "execute_result"
    }
   ],
   "source": [
    "metrics.confusion_matrix(y_test, model.predict(X_test_4))"
   ]
  },
  {
   "cell_type": "code",
   "execution_count": 56,
   "id": "b9e47603",
   "metadata": {},
   "outputs": [
    {
     "data": {
      "text/plain": [
       "0.7818052594171997"
      ]
     },
     "execution_count": 56,
     "metadata": {},
     "output_type": "execute_result"
    }
   ],
   "source": [
    "metrics.accuracy_score(y_test, model.predict(X_test_4))"
   ]
  },
  {
   "cell_type": "code",
   "execution_count": 57,
   "id": "265a5f44",
   "metadata": {},
   "outputs": [
    {
     "name": "stdout",
     "output_type": "stream",
     "text": [
      "              precision    recall  f1-score   support\n",
      "\n",
      "           0       0.83      0.88      0.86      1042\n",
      "           1       0.59      0.50      0.54       365\n",
      "\n",
      "    accuracy                           0.78      1407\n",
      "   macro avg       0.71      0.69      0.70      1407\n",
      "weighted avg       0.77      0.78      0.78      1407\n",
      "\n"
     ]
    }
   ],
   "source": [
    "print(classification_report(y_test,model.predict(X_test_4)))"
   ]
  },
  {
   "cell_type": "code",
   "execution_count": 58,
   "id": "9b341a60",
   "metadata": {},
   "outputs": [
    {
     "data": {
      "text/plain": [
       "0     1.361033\n",
       "1     2.665341\n",
       "2     1.937342\n",
       "3     2.623435\n",
       "4     2.170392\n",
       "5     2.800329\n",
       "6     1.717170\n",
       "7     1.926933\n",
       "8     2.126428\n",
       "9     1.885280\n",
       "10    2.577981\n",
       "11    2.628516\n",
       "12    1.504047\n",
       "13    1.882866\n",
       "14    1.553425\n",
       "15    1.992474\n",
       "16    1.303351\n",
       "Name: VIF, dtype: float64"
      ]
     },
     "execution_count": 58,
     "metadata": {},
     "output_type": "execute_result"
    }
   ],
   "source": [
    "from statsmodels.stats.outliers_influence import variance_inflation_factor\n",
    "vif = pd.DataFrame()\n",
    "vif['Features'] = X_train_4.columns\n",
    "vif['VIF'] = [variance_inflation_factor(X_train_4.values, i) for i in range(len(X_train_4.columns))]\n",
    "vif['VIF'] "
   ]
  },
  {
   "cell_type": "markdown",
   "id": "d6722a1f",
   "metadata": {},
   "source": [
    "### 5. remove PaperlessBilling"
   ]
  },
  {
   "cell_type": "code",
   "execution_count": 59,
   "id": "c5be7c18",
   "metadata": {},
   "outputs": [],
   "source": [
    "X_train_4 = X_train.drop(['MonthlyCharges','TotalCharges','PaperlessBilling'] ,axis='columns')\n",
    "X_test_4 = X_test.drop(['MonthlyCharges','TotalCharges','PaperlessBilling'] ,axis='columns')"
   ]
  },
  {
   "cell_type": "code",
   "execution_count": 60,
   "id": "dfc7633d",
   "metadata": {},
   "outputs": [
    {
     "data": {
      "text/plain": [
       "0.8008888888888889"
      ]
     },
     "execution_count": 60,
     "metadata": {},
     "output_type": "execute_result"
    }
   ],
   "source": [
    "model.fit(X_train_4, y_train)\n",
    "model.score(X_train_4, y_train)"
   ]
  },
  {
   "cell_type": "code",
   "execution_count": 61,
   "id": "04e116ff",
   "metadata": {},
   "outputs": [
    {
     "data": {
      "text/plain": [
       "array([[923, 119],\n",
       "       [164, 201]])"
      ]
     },
     "execution_count": 61,
     "metadata": {},
     "output_type": "execute_result"
    }
   ],
   "source": [
    "metrics.confusion_matrix(y_test, model.predict(X_test_4))"
   ]
  },
  {
   "cell_type": "code",
   "execution_count": 62,
   "id": "58d3c415",
   "metadata": {},
   "outputs": [
    {
     "data": {
      "text/plain": [
       "0.798862828713575"
      ]
     },
     "execution_count": 62,
     "metadata": {},
     "output_type": "execute_result"
    }
   ],
   "source": [
    "metrics.accuracy_score(y_test, model.predict(X_test_4))"
   ]
  },
  {
   "cell_type": "code",
   "execution_count": 63,
   "id": "2e694848",
   "metadata": {},
   "outputs": [
    {
     "name": "stdout",
     "output_type": "stream",
     "text": [
      "              precision    recall  f1-score   support\n",
      "\n",
      "           0       0.85      0.89      0.87      1042\n",
      "           1       0.63      0.55      0.59       365\n",
      "\n",
      "    accuracy                           0.80      1407\n",
      "   macro avg       0.74      0.72      0.73      1407\n",
      "weighted avg       0.79      0.80      0.79      1407\n",
      "\n"
     ]
    }
   ],
   "source": [
    "print(classification_report(y_test,model.predict(X_test_4)))"
   ]
  },
  {
   "cell_type": "code",
   "execution_count": 64,
   "id": "80b18468",
   "metadata": {},
   "outputs": [
    {
     "data": {
      "text/plain": [
       "0     1.361156\n",
       "1     2.816836\n",
       "2     1.936964\n",
       "3     7.043513\n",
       "4     2.286105\n",
       "5     2.691747\n",
       "6     1.741986\n",
       "7     2.001058\n",
       "8     2.144141\n",
       "9     1.881682\n",
       "10    2.565078\n",
       "11    2.625359\n",
       "12    1.914110\n",
       "13    3.073426\n",
       "14    1.522900\n",
       "15    1.830916\n",
       "16    1.235582\n",
       "Name: VIF, dtype: float64"
      ]
     },
     "execution_count": 64,
     "metadata": {},
     "output_type": "execute_result"
    }
   ],
   "source": [
    "from statsmodels.stats.outliers_influence import variance_inflation_factor\n",
    "vif = pd.DataFrame()\n",
    "vif['Features'] = X_train_4.columns\n",
    "vif['VIF'] = [variance_inflation_factor(X_train_4.values, i) for i in range(len(X_train_4.columns))]\n",
    "vif['VIF'] "
   ]
  },
  {
   "cell_type": "markdown",
   "id": "53de74c6",
   "metadata": {},
   "source": [
    "### 6. remove MultipleLines_Yes"
   ]
  },
  {
   "cell_type": "code",
   "execution_count": 65,
   "id": "1392efcd",
   "metadata": {},
   "outputs": [],
   "source": [
    "X_train_4 = X_train.drop(['MonthlyCharges','TotalCharges','MultipleLines_Yes'] ,axis='columns')\n",
    "X_test_4 = X_test.drop(['MonthlyCharges','TotalCharges','MultipleLines_Yes'] ,axis='columns')"
   ]
  },
  {
   "cell_type": "code",
   "execution_count": 66,
   "id": "0ca7998f",
   "metadata": {},
   "outputs": [
    {
     "data": {
      "text/plain": [
       "0.7991111111111111"
      ]
     },
     "execution_count": 66,
     "metadata": {},
     "output_type": "execute_result"
    }
   ],
   "source": [
    "model.fit(X_train_4, y_train)\n",
    "model.score(X_train_4, y_train)"
   ]
  },
  {
   "cell_type": "code",
   "execution_count": 67,
   "id": "19dad6d5",
   "metadata": {},
   "outputs": [
    {
     "data": {
      "text/plain": [
       "array([[923, 119],\n",
       "       [163, 202]])"
      ]
     },
     "execution_count": 67,
     "metadata": {},
     "output_type": "execute_result"
    }
   ],
   "source": [
    "metrics.confusion_matrix(y_test, model.predict(X_test_4))"
   ]
  },
  {
   "cell_type": "code",
   "execution_count": 68,
   "id": "03574f05",
   "metadata": {},
   "outputs": [
    {
     "data": {
      "text/plain": [
       "0.7995735607675906"
      ]
     },
     "execution_count": 68,
     "metadata": {},
     "output_type": "execute_result"
    }
   ],
   "source": [
    "metrics.accuracy_score(y_test, model.predict(X_test_4))"
   ]
  },
  {
   "cell_type": "code",
   "execution_count": 69,
   "id": "7b797656",
   "metadata": {},
   "outputs": [
    {
     "name": "stdout",
     "output_type": "stream",
     "text": [
      "              precision    recall  f1-score   support\n",
      "\n",
      "           0       0.85      0.89      0.87      1042\n",
      "           1       0.63      0.55      0.59       365\n",
      "\n",
      "    accuracy                           0.80      1407\n",
      "   macro avg       0.74      0.72      0.73      1407\n",
      "weighted avg       0.79      0.80      0.80      1407\n",
      "\n"
     ]
    }
   ],
   "source": [
    "print(classification_report(y_test,model.predict(X_test_4)))"
   ]
  },
  {
   "cell_type": "code",
   "execution_count": 70,
   "id": "4f7a8e76",
   "metadata": {},
   "outputs": [
    {
     "data": {
      "text/plain": [
       "0     1.365758\n",
       "1     2.816501\n",
       "2     1.937439\n",
       "3     6.755007\n",
       "4     2.650115\n",
       "5     2.594603\n",
       "6     1.741925\n",
       "7     2.003662\n",
       "8     2.144135\n",
       "9     1.886735\n",
       "10    2.580728\n",
       "11    2.629665\n",
       "12    1.914519\n",
       "13    3.093363\n",
       "14    1.571642\n",
       "15    1.991647\n",
       "16    1.304784\n",
       "Name: VIF, dtype: float64"
      ]
     },
     "execution_count": 70,
     "metadata": {},
     "output_type": "execute_result"
    }
   ],
   "source": [
    "from statsmodels.stats.outliers_influence import variance_inflation_factor\n",
    "vif = pd.DataFrame()\n",
    "vif['Features'] = X_train_4.columns\n",
    "vif['VIF'] = [variance_inflation_factor(X_train_4.values, i) for i in range(len(X_train_4.columns))]\n",
    "vif['VIF'] "
   ]
  },
  {
   "cell_type": "markdown",
   "id": "fc456716",
   "metadata": {},
   "source": [
    "### 7. remove InternetService_Fiber optic"
   ]
  },
  {
   "cell_type": "code",
   "execution_count": 71,
   "id": "9d123a4f",
   "metadata": {},
   "outputs": [],
   "source": [
    "X_train_4 = X_train.drop(['MonthlyCharges','TotalCharges','InternetService_Fiber optic'] ,axis='columns')\n",
    "X_test_4 = X_test.drop(['MonthlyCharges','TotalCharges','InternetService_Fiber optic'] ,axis='columns')"
   ]
  },
  {
   "cell_type": "code",
   "execution_count": 72,
   "id": "1bfb305e",
   "metadata": {},
   "outputs": [
    {
     "data": {
      "text/plain": [
       "0.7934222222222223"
      ]
     },
     "execution_count": 72,
     "metadata": {},
     "output_type": "execute_result"
    }
   ],
   "source": [
    "model.fit(X_train_4, y_train)\n",
    "model.score(X_train_4, y_train)"
   ]
  },
  {
   "cell_type": "code",
   "execution_count": 73,
   "id": "af22accc",
   "metadata": {},
   "outputs": [
    {
     "data": {
      "text/plain": [
       "array([[928, 114],\n",
       "       [177, 188]])"
      ]
     },
     "execution_count": 73,
     "metadata": {},
     "output_type": "execute_result"
    }
   ],
   "source": [
    "metrics.confusion_matrix(y_test, model.predict(X_test_4))"
   ]
  },
  {
   "cell_type": "code",
   "execution_count": 74,
   "id": "cac5d52a",
   "metadata": {},
   "outputs": [
    {
     "data": {
      "text/plain": [
       "0.7931769722814499"
      ]
     },
     "execution_count": 74,
     "metadata": {},
     "output_type": "execute_result"
    }
   ],
   "source": [
    "metrics.accuracy_score(y_test, model.predict(X_test_4))"
   ]
  },
  {
   "cell_type": "code",
   "execution_count": 75,
   "id": "1b556165",
   "metadata": {},
   "outputs": [
    {
     "name": "stdout",
     "output_type": "stream",
     "text": [
      "              precision    recall  f1-score   support\n",
      "\n",
      "           0       0.84      0.89      0.86      1042\n",
      "           1       0.62      0.52      0.56       365\n",
      "\n",
      "    accuracy                           0.79      1407\n",
      "   macro avg       0.73      0.70      0.71      1407\n",
      "weighted avg       0.78      0.79      0.79      1407\n",
      "\n"
     ]
    }
   ],
   "source": [
    "print(classification_report(y_test,model.predict(X_test_4)))"
   ]
  },
  {
   "cell_type": "code",
   "execution_count": 76,
   "id": "c343e5ab",
   "metadata": {},
   "outputs": [
    {
     "data": {
      "text/plain": [
       "0     1.352492\n",
       "1     2.815989\n",
       "2     1.935659\n",
       "3     7.096929\n",
       "4     2.540836\n",
       "5     2.112734\n",
       "6     1.738712\n",
       "7     1.998406\n",
       "8     2.134199\n",
       "9     1.879732\n",
       "10    2.534329\n",
       "11    2.593570\n",
       "12    1.889446\n",
       "13    2.989502\n",
       "14    1.562819\n",
       "15    1.876012\n",
       "16    1.303063\n",
       "Name: VIF, dtype: float64"
      ]
     },
     "execution_count": 76,
     "metadata": {},
     "output_type": "execute_result"
    }
   ],
   "source": [
    "from statsmodels.stats.outliers_influence import variance_inflation_factor\n",
    "vif = pd.DataFrame()\n",
    "vif['Features'] = X_train_4.columns\n",
    "vif['VIF'] = [variance_inflation_factor(X_train_4.values, i) for i in range(len(X_train_4.columns))]\n",
    "vif['VIF'] "
   ]
  },
  {
   "cell_type": "markdown",
   "id": "3a0911a8",
   "metadata": {},
   "source": [
    "### 8. remove OnlineSecurity_Yes"
   ]
  },
  {
   "cell_type": "code",
   "execution_count": 77,
   "id": "5770bcce",
   "metadata": {},
   "outputs": [],
   "source": [
    "X_train_4 = X_train.drop(['MonthlyCharges','TotalCharges','OnlineSecurity_Yes'] ,axis='columns')\n",
    "X_test_4 = X_test.drop(['MonthlyCharges','TotalCharges','OnlineSecurity_Yes'] ,axis='columns')"
   ]
  },
  {
   "cell_type": "code",
   "execution_count": 78,
   "id": "11275cd7",
   "metadata": {},
   "outputs": [
    {
     "data": {
      "text/plain": [
       "0.8019555555555555"
      ]
     },
     "execution_count": 78,
     "metadata": {},
     "output_type": "execute_result"
    }
   ],
   "source": [
    "model.fit(X_train_4, y_train)\n",
    "model.score(X_train_4, y_train)"
   ]
  },
  {
   "cell_type": "code",
   "execution_count": 79,
   "id": "6f7555db",
   "metadata": {},
   "outputs": [
    {
     "data": {
      "text/plain": [
       "array([[920, 122],\n",
       "       [163, 202]])"
      ]
     },
     "execution_count": 79,
     "metadata": {},
     "output_type": "execute_result"
    }
   ],
   "source": [
    "metrics.confusion_matrix(y_test, model.predict(X_test_4))"
   ]
  },
  {
   "cell_type": "code",
   "execution_count": 80,
   "id": "7c6ed837",
   "metadata": {},
   "outputs": [
    {
     "data": {
      "text/plain": [
       "0.7974413646055437"
      ]
     },
     "execution_count": 80,
     "metadata": {},
     "output_type": "execute_result"
    }
   ],
   "source": [
    "metrics.accuracy_score(y_test, model.predict(X_test_4))"
   ]
  },
  {
   "cell_type": "code",
   "execution_count": 81,
   "id": "f3220e28",
   "metadata": {},
   "outputs": [
    {
     "name": "stdout",
     "output_type": "stream",
     "text": [
      "              precision    recall  f1-score   support\n",
      "\n",
      "           0       0.85      0.88      0.87      1042\n",
      "           1       0.62      0.55      0.59       365\n",
      "\n",
      "    accuracy                           0.80      1407\n",
      "   macro avg       0.74      0.72      0.73      1407\n",
      "weighted avg       0.79      0.80      0.79      1407\n",
      "\n"
     ]
    }
   ],
   "source": [
    "print(classification_report(y_test,model.predict(X_test_4)))"
   ]
  },
  {
   "cell_type": "code",
   "execution_count": 82,
   "id": "27d1d937",
   "metadata": {},
   "outputs": [
    {
     "data": {
      "text/plain": [
       "0     1.368362\n",
       "1     2.817644\n",
       "2     1.936332\n",
       "3     7.027530\n",
       "4     2.655310\n",
       "5     2.290506\n",
       "6     2.807732\n",
       "7     1.965647\n",
       "8     2.128445\n",
       "9     1.806239\n",
       "10    2.581695\n",
       "11    2.632621\n",
       "12    1.917332\n",
       "13    3.093934\n",
       "14    1.568600\n",
       "15    1.992621\n",
       "16    1.302679\n",
       "Name: VIF, dtype: float64"
      ]
     },
     "execution_count": 82,
     "metadata": {},
     "output_type": "execute_result"
    }
   ],
   "source": [
    "from statsmodels.stats.outliers_influence import variance_inflation_factor\n",
    "vif = pd.DataFrame()\n",
    "vif['Features'] = X_train_4.columns\n",
    "vif['VIF'] = [variance_inflation_factor(X_train_4.values, i) for i in range(len(X_train_4.columns))]\n",
    "vif['VIF'] "
   ]
  },
  {
   "cell_type": "markdown",
   "id": "4beb44e9",
   "metadata": {},
   "source": [
    "### 9. remove OnlineBackup_Yes"
   ]
  },
  {
   "cell_type": "code",
   "execution_count": 83,
   "id": "a028ea87",
   "metadata": {},
   "outputs": [],
   "source": [
    "X_train_4 = X_train.drop(['MonthlyCharges','TotalCharges','OnlineBackup_Yes'] ,axis='columns')\n",
    "X_test_4 = X_test.drop(['MonthlyCharges','TotalCharges','OnlineBackup_Yes'] ,axis='columns')"
   ]
  },
  {
   "cell_type": "code",
   "execution_count": 84,
   "id": "e5892d6e",
   "metadata": {},
   "outputs": [
    {
     "data": {
      "text/plain": [
       "0.8016"
      ]
     },
     "execution_count": 84,
     "metadata": {},
     "output_type": "execute_result"
    }
   ],
   "source": [
    "model.fit(X_train_4, y_train)\n",
    "model.score(X_train_4, y_train)"
   ]
  },
  {
   "cell_type": "code",
   "execution_count": 85,
   "id": "5ae96877",
   "metadata": {},
   "outputs": [
    {
     "data": {
      "text/plain": [
       "array([[923, 119],\n",
       "       [160, 205]])"
      ]
     },
     "execution_count": 85,
     "metadata": {},
     "output_type": "execute_result"
    }
   ],
   "source": [
    "metrics.confusion_matrix(y_test, model.predict(X_test_4))"
   ]
  },
  {
   "cell_type": "code",
   "execution_count": 86,
   "id": "c2988ee3",
   "metadata": {},
   "outputs": [
    {
     "data": {
      "text/plain": [
       "0.8017057569296375"
      ]
     },
     "execution_count": 86,
     "metadata": {},
     "output_type": "execute_result"
    }
   ],
   "source": [
    "metrics.accuracy_score(y_test, model.predict(X_test_4))"
   ]
  },
  {
   "cell_type": "code",
   "execution_count": 87,
   "id": "23c4e281",
   "metadata": {},
   "outputs": [
    {
     "name": "stdout",
     "output_type": "stream",
     "text": [
      "              precision    recall  f1-score   support\n",
      "\n",
      "           0       0.85      0.89      0.87      1042\n",
      "           1       0.63      0.56      0.60       365\n",
      "\n",
      "    accuracy                           0.80      1407\n",
      "   macro avg       0.74      0.72      0.73      1407\n",
      "weighted avg       0.80      0.80      0.80      1407\n",
      "\n"
     ]
    }
   ],
   "source": [
    "print(classification_report(y_test,model.predict(X_test_4)))"
   ]
  },
  {
   "cell_type": "code",
   "execution_count": 88,
   "id": "9d1d7e28",
   "metadata": {},
   "outputs": [
    {
     "data": {
      "text/plain": [
       "0     1.367576\n",
       "1     2.818432\n",
       "2     1.937513\n",
       "3     6.854374\n",
       "4     2.651196\n",
       "5     2.290015\n",
       "6     2.804940\n",
       "7     1.708509\n",
       "8     2.126593\n",
       "9     1.859290\n",
       "10    2.573142\n",
       "11    2.629750\n",
       "12    1.915402\n",
       "13    3.071626\n",
       "14    1.571952\n",
       "15    1.992985\n",
       "16    1.304723\n",
       "Name: VIF, dtype: float64"
      ]
     },
     "execution_count": 88,
     "metadata": {},
     "output_type": "execute_result"
    }
   ],
   "source": [
    "from statsmodels.stats.outliers_influence import variance_inflation_factor\n",
    "vif = pd.DataFrame()\n",
    "vif['Features'] = X_train_4.columns\n",
    "vif['VIF'] = [variance_inflation_factor(X_train_4.values, i) for i in range(len(X_train_4.columns))]\n",
    "vif['VIF'] "
   ]
  },
  {
   "cell_type": "markdown",
   "id": "119bbfcb",
   "metadata": {},
   "source": [
    "### 10. remove DeviceProtection_Yes"
   ]
  },
  {
   "cell_type": "code",
   "execution_count": 89,
   "id": "5e5e41b6",
   "metadata": {},
   "outputs": [],
   "source": [
    "X_train_4 = X_train.drop(['MonthlyCharges','TotalCharges','DeviceProtection_Yes'] ,axis='columns')\n",
    "X_test_4 = X_test.drop(['MonthlyCharges','TotalCharges','DeviceProtection_Yes'] ,axis='columns')"
   ]
  },
  {
   "cell_type": "code",
   "execution_count": 90,
   "id": "f6e56e7d",
   "metadata": {},
   "outputs": [
    {
     "data": {
      "text/plain": [
       "0.8019555555555555"
      ]
     },
     "execution_count": 90,
     "metadata": {},
     "output_type": "execute_result"
    }
   ],
   "source": [
    "model.fit(X_train_4, y_train)\n",
    "model.score(X_train_4, y_train)"
   ]
  },
  {
   "cell_type": "code",
   "execution_count": 91,
   "id": "fc7c6370",
   "metadata": {},
   "outputs": [
    {
     "data": {
      "text/plain": [
       "array([[922, 120],\n",
       "       [159, 206]])"
      ]
     },
     "execution_count": 91,
     "metadata": {},
     "output_type": "execute_result"
    }
   ],
   "source": [
    "metrics.confusion_matrix(y_test, model.predict(X_test_4))"
   ]
  },
  {
   "cell_type": "code",
   "execution_count": 92,
   "id": "d5bdf7d6",
   "metadata": {},
   "outputs": [
    {
     "data": {
      "text/plain": [
       "0.8017057569296375"
      ]
     },
     "execution_count": 92,
     "metadata": {},
     "output_type": "execute_result"
    }
   ],
   "source": [
    "metrics.accuracy_score(y_test, model.predict(X_test_4))"
   ]
  },
  {
   "cell_type": "code",
   "execution_count": 93,
   "id": "047d7ad5",
   "metadata": {},
   "outputs": [
    {
     "name": "stdout",
     "output_type": "stream",
     "text": [
      "              precision    recall  f1-score   support\n",
      "\n",
      "           0       0.85      0.88      0.87      1042\n",
      "           1       0.63      0.56      0.60       365\n",
      "\n",
      "    accuracy                           0.80      1407\n",
      "   macro avg       0.74      0.72      0.73      1407\n",
      "weighted avg       0.80      0.80      0.80      1407\n",
      "\n"
     ]
    }
   ],
   "source": [
    "print(classification_report(y_test,model.predict(X_test_4)))"
   ]
  },
  {
   "cell_type": "code",
   "execution_count": 94,
   "id": "f0d54936",
   "metadata": {},
   "outputs": [
    {
     "data": {
      "text/plain": [
       "0     1.368493\n",
       "1     2.817181\n",
       "2     1.937019\n",
       "3     7.070149\n",
       "4     2.655292\n",
       "5     2.290564\n",
       "6     2.799958\n",
       "7     1.729222\n",
       "8     1.987747\n",
       "9     1.852679\n",
       "10    2.533930\n",
       "11    2.567988\n",
       "12    1.915199\n",
       "13    3.091485\n",
       "14    1.571388\n",
       "15    1.992900\n",
       "16    1.303657\n",
       "Name: VIF, dtype: float64"
      ]
     },
     "execution_count": 94,
     "metadata": {},
     "output_type": "execute_result"
    }
   ],
   "source": [
    "from statsmodels.stats.outliers_influence import variance_inflation_factor\n",
    "vif = pd.DataFrame()\n",
    "vif['Features'] = X_train_4.columns\n",
    "vif['VIF'] = [variance_inflation_factor(X_train_4.values, i) for i in range(len(X_train_4.columns))]\n",
    "vif['VIF'] "
   ]
  },
  {
   "cell_type": "markdown",
   "id": "dc56f0af",
   "metadata": {},
   "source": [
    "### 10. remove TechSupport_Yes"
   ]
  },
  {
   "cell_type": "code",
   "execution_count": 95,
   "id": "1f3196f4",
   "metadata": {},
   "outputs": [],
   "source": [
    "X_train_4 = X_train.drop(['MonthlyCharges','TotalCharges','TechSupport_Yes'] ,axis='columns')\n",
    "X_test_4 = X_test.drop(['MonthlyCharges','TotalCharges','TechSupport_Yes'] ,axis='columns')"
   ]
  },
  {
   "cell_type": "code",
   "execution_count": 96,
   "id": "a6830f1b",
   "metadata": {},
   "outputs": [
    {
     "data": {
      "text/plain": [
       "0.8"
      ]
     },
     "execution_count": 96,
     "metadata": {},
     "output_type": "execute_result"
    }
   ],
   "source": [
    "model.fit(X_train_4, y_train)\n",
    "model.score(X_train_4, y_train)"
   ]
  },
  {
   "cell_type": "code",
   "execution_count": 97,
   "id": "ab2482b5",
   "metadata": {},
   "outputs": [
    {
     "data": {
      "text/plain": [
       "array([[922, 120],\n",
       "       [168, 197]])"
      ]
     },
     "execution_count": 97,
     "metadata": {},
     "output_type": "execute_result"
    }
   ],
   "source": [
    "metrics.confusion_matrix(y_test, model.predict(X_test_4))"
   ]
  },
  {
   "cell_type": "code",
   "execution_count": 98,
   "id": "88d23ac4",
   "metadata": {},
   "outputs": [
    {
     "data": {
      "text/plain": [
       "0.7953091684434968"
      ]
     },
     "execution_count": 98,
     "metadata": {},
     "output_type": "execute_result"
    }
   ],
   "source": [
    "metrics.accuracy_score(y_test, model.predict(X_test_4))"
   ]
  },
  {
   "cell_type": "code",
   "execution_count": 99,
   "id": "86a15738",
   "metadata": {},
   "outputs": [
    {
     "name": "stdout",
     "output_type": "stream",
     "text": [
      "              precision    recall  f1-score   support\n",
      "\n",
      "           0       0.85      0.88      0.86      1042\n",
      "           1       0.62      0.54      0.58       365\n",
      "\n",
      "    accuracy                           0.80      1407\n",
      "   macro avg       0.73      0.71      0.72      1407\n",
      "weighted avg       0.79      0.80      0.79      1407\n",
      "\n"
     ]
    }
   ],
   "source": [
    "print(classification_report(y_test,model.predict(X_test_4)))"
   ]
  },
  {
   "cell_type": "code",
   "execution_count": 100,
   "id": "686f364c",
   "metadata": {},
   "outputs": [
    {
     "data": {
      "text/plain": [
       "0     1.362870\n",
       "1     2.818063\n",
       "2     1.937604\n",
       "3     7.123100\n",
       "4     2.648013\n",
       "5     2.290427\n",
       "6     2.802384\n",
       "7     1.667549\n",
       "8     1.974872\n",
       "9     2.105307\n",
       "10    2.555705\n",
       "11    2.611153\n",
       "12    1.910027\n",
       "13    3.065174\n",
       "14    1.569916\n",
       "15    1.992868\n",
       "16    1.302852\n",
       "Name: VIF, dtype: float64"
      ]
     },
     "execution_count": 100,
     "metadata": {},
     "output_type": "execute_result"
    }
   ],
   "source": [
    "from statsmodels.stats.outliers_influence import variance_inflation_factor\n",
    "vif = pd.DataFrame()\n",
    "vif['Features'] = X_train_4.columns\n",
    "vif['VIF'] = [variance_inflation_factor(X_train_4.values, i) for i in range(len(X_train_4.columns))]\n",
    "vif['VIF'] "
   ]
  },
  {
   "cell_type": "markdown",
   "id": "7e0b9eea",
   "metadata": {},
   "source": [
    "### 11. remove StreamingTV_Yes"
   ]
  },
  {
   "cell_type": "code",
   "execution_count": 101,
   "id": "73e9d241",
   "metadata": {},
   "outputs": [],
   "source": [
    "X_train_4 = X_train.drop(['MonthlyCharges','TotalCharges','StreamingTV_Yes'] ,axis='columns')\n",
    "X_test_4 = X_test.drop(['MonthlyCharges','TotalCharges','StreamingTV_Yes'] ,axis='columns')"
   ]
  },
  {
   "cell_type": "code",
   "execution_count": 102,
   "id": "d0039858",
   "metadata": {},
   "outputs": [
    {
     "data": {
      "text/plain": [
       "0.8019555555555555"
      ]
     },
     "execution_count": 102,
     "metadata": {},
     "output_type": "execute_result"
    }
   ],
   "source": [
    "model.fit(X_train_4, y_train)\n",
    "model.score(X_train_4, y_train)"
   ]
  },
  {
   "cell_type": "code",
   "execution_count": 103,
   "id": "38374f21",
   "metadata": {},
   "outputs": [
    {
     "data": {
      "text/plain": [
       "array([[926, 116],\n",
       "       [162, 203]])"
      ]
     },
     "execution_count": 103,
     "metadata": {},
     "output_type": "execute_result"
    }
   ],
   "source": [
    "metrics.confusion_matrix(y_test, model.predict(X_test_4))"
   ]
  },
  {
   "cell_type": "code",
   "execution_count": 104,
   "id": "3302a21a",
   "metadata": {},
   "outputs": [
    {
     "data": {
      "text/plain": [
       "0.8024164889836531"
      ]
     },
     "execution_count": 104,
     "metadata": {},
     "output_type": "execute_result"
    }
   ],
   "source": [
    "metrics.accuracy_score(y_test, model.predict(X_test_4))"
   ]
  },
  {
   "cell_type": "code",
   "execution_count": 105,
   "id": "72c2c929",
   "metadata": {},
   "outputs": [
    {
     "name": "stdout",
     "output_type": "stream",
     "text": [
      "              precision    recall  f1-score   support\n",
      "\n",
      "           0       0.85      0.89      0.87      1042\n",
      "           1       0.64      0.56      0.59       365\n",
      "\n",
      "    accuracy                           0.80      1407\n",
      "   macro avg       0.74      0.72      0.73      1407\n",
      "weighted avg       0.80      0.80      0.80      1407\n",
      "\n"
     ]
    }
   ],
   "source": [
    "print(classification_report(y_test,model.predict(X_test_4)))"
   ]
  },
  {
   "cell_type": "code",
   "execution_count": 106,
   "id": "99d1fe6e",
   "metadata": {},
   "outputs": [
    {
     "data": {
      "text/plain": [
       "0     1.368628\n",
       "1     2.818173\n",
       "2     1.937600\n",
       "3     7.117954\n",
       "4     2.637892\n",
       "5     2.289444\n",
       "6     2.761067\n",
       "7     1.741770\n",
       "8     1.997275\n",
       "9     2.104224\n",
       "10    1.867639\n",
       "11    2.332132\n",
       "12    1.915906\n",
       "13    3.092998\n",
       "14    1.571238\n",
       "15    1.989062\n",
       "16    1.301933\n",
       "Name: VIF, dtype: float64"
      ]
     },
     "execution_count": 106,
     "metadata": {},
     "output_type": "execute_result"
    }
   ],
   "source": [
    "from statsmodels.stats.outliers_influence import variance_inflation_factor\n",
    "vif = pd.DataFrame()\n",
    "vif['Features'] = X_train_4.columns\n",
    "vif['VIF'] = [variance_inflation_factor(X_train_4.values, i) for i in range(len(X_train_4.columns))]\n",
    "vif['VIF']"
   ]
  },
  {
   "cell_type": "markdown",
   "id": "4c1036b4",
   "metadata": {},
   "source": [
    "### 12. remove StreamingMovies_Yes"
   ]
  },
  {
   "cell_type": "code",
   "execution_count": 107,
   "id": "81e3e46e",
   "metadata": {},
   "outputs": [],
   "source": [
    "X_train_4 = X_train.drop(['MonthlyCharges','TotalCharges','StreamingMovies_Yes'] ,axis='columns')\n",
    "X_test_4 = X_test.drop(['MonthlyCharges','TotalCharges','StreamingMovies_Yes'] ,axis='columns')"
   ]
  },
  {
   "cell_type": "code",
   "execution_count": 108,
   "id": "cf5914c7",
   "metadata": {},
   "outputs": [
    {
     "data": {
      "text/plain": [
       "0.7982222222222223"
      ]
     },
     "execution_count": 108,
     "metadata": {},
     "output_type": "execute_result"
    }
   ],
   "source": [
    "model.fit(X_train_4, y_train)\n",
    "model.score(X_train_4, y_train)"
   ]
  },
  {
   "cell_type": "code",
   "execution_count": 109,
   "id": "75f33c8e",
   "metadata": {},
   "outputs": [
    {
     "data": {
      "text/plain": [
       "array([[921, 121],\n",
       "       [158, 207]])"
      ]
     },
     "execution_count": 109,
     "metadata": {},
     "output_type": "execute_result"
    }
   ],
   "source": [
    "metrics.confusion_matrix(y_test, model.predict(X_test_4))"
   ]
  },
  {
   "cell_type": "code",
   "execution_count": 110,
   "id": "0ae73e41",
   "metadata": {},
   "outputs": [
    {
     "data": {
      "text/plain": [
       "0.8017057569296375"
      ]
     },
     "execution_count": 110,
     "metadata": {},
     "output_type": "execute_result"
    }
   ],
   "source": [
    "metrics.accuracy_score(y_test, model.predict(X_test_4))"
   ]
  },
  {
   "cell_type": "code",
   "execution_count": 111,
   "id": "d3fec09a",
   "metadata": {},
   "outputs": [
    {
     "name": "stdout",
     "output_type": "stream",
     "text": [
      "              precision    recall  f1-score   support\n",
      "\n",
      "           0       0.85      0.88      0.87      1042\n",
      "           1       0.63      0.57      0.60       365\n",
      "\n",
      "    accuracy                           0.80      1407\n",
      "   macro avg       0.74      0.73      0.73      1407\n",
      "weighted avg       0.80      0.80      0.80      1407\n",
      "\n"
     ]
    }
   ],
   "source": [
    "print(classification_report(y_test,model.predict(X_test_4)))"
   ]
  },
  {
   "cell_type": "code",
   "execution_count": 112,
   "id": "06f61b10",
   "metadata": {},
   "outputs": [
    {
     "data": {
      "text/plain": [
       "0     1.368086\n",
       "1     2.817217\n",
       "2     1.936254\n",
       "3     7.113408\n",
       "4     2.646286\n",
       "5     2.286546\n",
       "6     2.769514\n",
       "7     1.740869\n",
       "8     2.000692\n",
       "9     2.090172\n",
       "10    1.870278\n",
       "11    2.285835\n",
       "12    1.916895\n",
       "13    3.093787\n",
       "14    1.572087\n",
       "15    1.985801\n",
       "16    1.303649\n",
       "Name: VIF, dtype: float64"
      ]
     },
     "execution_count": 112,
     "metadata": {},
     "output_type": "execute_result"
    }
   ],
   "source": [
    "from statsmodels.stats.outliers_influence import variance_inflation_factor\n",
    "vif = pd.DataFrame()\n",
    "vif['Features'] = X_train_4.columns\n",
    "vif['VIF'] = [variance_inflation_factor(X_train_4.values, i) for i in range(len(X_train_4.columns))]\n",
    "vif['VIF']"
   ]
  },
  {
   "cell_type": "markdown",
   "id": "04d6d8ba",
   "metadata": {},
   "source": [
    "### 13. remove Contract_One year"
   ]
  },
  {
   "cell_type": "code",
   "execution_count": 113,
   "id": "fbea00f3",
   "metadata": {},
   "outputs": [],
   "source": [
    "X_train_4 = X_train.drop(['MonthlyCharges','TotalCharges','Contract_One year'] ,axis='columns')\n",
    "X_test_4 = X_test.drop(['MonthlyCharges','TotalCharges','Contract_One year'] ,axis='columns')"
   ]
  },
  {
   "cell_type": "code",
   "execution_count": 114,
   "id": "ce4a8309",
   "metadata": {},
   "outputs": [
    {
     "data": {
      "text/plain": [
       "0.8024888888888889"
      ]
     },
     "execution_count": 114,
     "metadata": {},
     "output_type": "execute_result"
    }
   ],
   "source": [
    "model.fit(X_train_4, y_train)\n",
    "model.score(X_train_4, y_train)"
   ]
  },
  {
   "cell_type": "code",
   "execution_count": 115,
   "id": "46b4c23b",
   "metadata": {},
   "outputs": [
    {
     "data": {
      "text/plain": [
       "array([[931, 111],\n",
       "       [172, 193]])"
      ]
     },
     "execution_count": 115,
     "metadata": {},
     "output_type": "execute_result"
    }
   ],
   "source": [
    "metrics.confusion_matrix(y_test, model.predict(X_test_4))"
   ]
  },
  {
   "cell_type": "code",
   "execution_count": 116,
   "id": "125e439c",
   "metadata": {},
   "outputs": [
    {
     "data": {
      "text/plain": [
       "0.798862828713575"
      ]
     },
     "execution_count": 116,
     "metadata": {},
     "output_type": "execute_result"
    }
   ],
   "source": [
    "metrics.accuracy_score(y_test, model.predict(X_test_4))"
   ]
  },
  {
   "cell_type": "code",
   "execution_count": 117,
   "id": "48866499",
   "metadata": {},
   "outputs": [
    {
     "name": "stdout",
     "output_type": "stream",
     "text": [
      "              precision    recall  f1-score   support\n",
      "\n",
      "           0       0.84      0.89      0.87      1042\n",
      "           1       0.63      0.53      0.58       365\n",
      "\n",
      "    accuracy                           0.80      1407\n",
      "   macro avg       0.74      0.71      0.72      1407\n",
      "weighted avg       0.79      0.80      0.79      1407\n",
      "\n"
     ]
    }
   ],
   "source": [
    "print(classification_report(y_test,model.predict(X_test_4)))"
   ]
  },
  {
   "cell_type": "code",
   "execution_count": 118,
   "id": "59de9d75",
   "metadata": {},
   "outputs": [
    {
     "data": {
      "text/plain": [
       "0     1.363723\n",
       "1     2.816776\n",
       "2     1.929952\n",
       "3     5.591427\n",
       "4     2.650387\n",
       "5     2.286827\n",
       "6     2.771624\n",
       "7     1.741683\n",
       "8     2.001796\n",
       "9     2.141397\n",
       "10    1.879350\n",
       "11    2.579645\n",
       "12    2.633252\n",
       "13    2.144371\n",
       "14    1.559579\n",
       "15    1.992776\n",
       "16    1.267903\n",
       "Name: VIF, dtype: float64"
      ]
     },
     "execution_count": 118,
     "metadata": {},
     "output_type": "execute_result"
    }
   ],
   "source": [
    "from statsmodels.stats.outliers_influence import variance_inflation_factor\n",
    "vif = pd.DataFrame()\n",
    "vif['Features'] = X_train_4.columns\n",
    "vif['VIF'] = [variance_inflation_factor(X_train_4.values, i) for i in range(len(X_train_4.columns))]\n",
    "vif['VIF']"
   ]
  },
  {
   "cell_type": "markdown",
   "id": "b3dca93c",
   "metadata": {},
   "source": [
    "### 14. remove Contract_Two year"
   ]
  },
  {
   "cell_type": "code",
   "execution_count": 119,
   "id": "5780f374",
   "metadata": {},
   "outputs": [],
   "source": [
    "X_train_4 = X_train.drop(['MonthlyCharges','TotalCharges','Contract_Two year'] ,axis='columns')\n",
    "X_test_4 = X_test.drop(['MonthlyCharges','TotalCharges','Contract_Two year'] ,axis='columns')"
   ]
  },
  {
   "cell_type": "code",
   "execution_count": 120,
   "id": "e66e6ed6",
   "metadata": {},
   "outputs": [
    {
     "data": {
      "text/plain": [
       "0.8023111111111111"
      ]
     },
     "execution_count": 120,
     "metadata": {},
     "output_type": "execute_result"
    }
   ],
   "source": [
    "model.fit(X_train_4, y_train)\n",
    "model.score(X_train_4, y_train)"
   ]
  },
  {
   "cell_type": "code",
   "execution_count": 121,
   "id": "49c71b8d",
   "metadata": {},
   "outputs": [
    {
     "data": {
      "text/plain": [
       "array([[930, 112],\n",
       "       [169, 196]])"
      ]
     },
     "execution_count": 121,
     "metadata": {},
     "output_type": "execute_result"
    }
   ],
   "source": [
    "metrics.confusion_matrix(y_test, model.predict(X_test_4))"
   ]
  },
  {
   "cell_type": "code",
   "execution_count": 122,
   "id": "911edb0a",
   "metadata": {},
   "outputs": [
    {
     "data": {
      "text/plain": [
       "0.8002842928216063"
      ]
     },
     "execution_count": 122,
     "metadata": {},
     "output_type": "execute_result"
    }
   ],
   "source": [
    "metrics.accuracy_score(y_test, model.predict(X_test_4))"
   ]
  },
  {
   "cell_type": "code",
   "execution_count": 123,
   "id": "adc8c3b1",
   "metadata": {},
   "outputs": [
    {
     "name": "stdout",
     "output_type": "stream",
     "text": [
      "              precision    recall  f1-score   support\n",
      "\n",
      "           0       0.85      0.89      0.87      1042\n",
      "           1       0.64      0.54      0.58       365\n",
      "\n",
      "    accuracy                           0.80      1407\n",
      "   macro avg       0.74      0.71      0.73      1407\n",
      "weighted avg       0.79      0.80      0.79      1407\n",
      "\n"
     ]
    }
   ],
   "source": [
    "print(classification_report(y_test,model.predict(X_test_4)))"
   ]
  },
  {
   "cell_type": "code",
   "execution_count": 124,
   "id": "3f7980b1",
   "metadata": {},
   "outputs": [
    {
     "data": {
      "text/plain": [
       "0     1.360330\n",
       "1     2.817687\n",
       "2     1.923285\n",
       "3     4.338198\n",
       "4     2.637506\n",
       "5     2.289988\n",
       "6     2.717861\n",
       "7     1.741852\n",
       "8     1.989560\n",
       "9     2.142294\n",
       "10    1.869183\n",
       "11    2.581037\n",
       "12    2.633984\n",
       "13    1.329010\n",
       "14    1.565192\n",
       "15    1.987763\n",
       "16    1.280557\n",
       "Name: VIF, dtype: float64"
      ]
     },
     "execution_count": 124,
     "metadata": {},
     "output_type": "execute_result"
    }
   ],
   "source": [
    "from statsmodels.stats.outliers_influence import variance_inflation_factor\n",
    "vif = pd.DataFrame()\n",
    "vif['Features'] = X_train_4.columns\n",
    "vif['VIF'] = [variance_inflation_factor(X_train_4.values, i) for i in range(len(X_train_4.columns))]\n",
    "vif['VIF']"
   ]
  },
  {
   "cell_type": "markdown",
   "id": "a2040cf0",
   "metadata": {},
   "source": [
    "### 15. remove PaymentMethod_Credit card(automatic)"
   ]
  },
  {
   "cell_type": "code",
   "execution_count": 125,
   "id": "08097dc2",
   "metadata": {},
   "outputs": [],
   "source": [
    "X_train_4 = X_train.drop(['MonthlyCharges','TotalCharges','PaymentMethod_Credit card (automatic)'] ,axis='columns')\n",
    "X_test_4 = X_test.drop(['MonthlyCharges','TotalCharges','PaymentMethod_Credit card (automatic)'] ,axis='columns')"
   ]
  },
  {
   "cell_type": "code",
   "execution_count": 126,
   "id": "76fd0df5",
   "metadata": {},
   "outputs": [
    {
     "data": {
      "text/plain": [
       "0.8016"
      ]
     },
     "execution_count": 126,
     "metadata": {},
     "output_type": "execute_result"
    }
   ],
   "source": [
    "model.fit(X_train_4, y_train)\n",
    "model.score(X_train_4, y_train)"
   ]
  },
  {
   "cell_type": "code",
   "execution_count": 127,
   "id": "ff608e3c",
   "metadata": {},
   "outputs": [
    {
     "data": {
      "text/plain": [
       "array([[923, 119],\n",
       "       [158, 207]])"
      ]
     },
     "execution_count": 127,
     "metadata": {},
     "output_type": "execute_result"
    }
   ],
   "source": [
    "metrics.confusion_matrix(y_test, model.predict(X_test_4))"
   ]
  },
  {
   "cell_type": "code",
   "execution_count": 128,
   "id": "8bed051b",
   "metadata": {},
   "outputs": [
    {
     "data": {
      "text/plain": [
       "0.8031272210376688"
      ]
     },
     "execution_count": 128,
     "metadata": {},
     "output_type": "execute_result"
    }
   ],
   "source": [
    "metrics.accuracy_score(y_test, model.predict(X_test_4))"
   ]
  },
  {
   "cell_type": "code",
   "execution_count": 129,
   "id": "37ee434c",
   "metadata": {},
   "outputs": [
    {
     "name": "stdout",
     "output_type": "stream",
     "text": [
      "              precision    recall  f1-score   support\n",
      "\n",
      "           0       0.85      0.89      0.87      1042\n",
      "           1       0.63      0.57      0.60       365\n",
      "\n",
      "    accuracy                           0.80      1407\n",
      "   macro avg       0.74      0.73      0.73      1407\n",
      "weighted avg       0.80      0.80      0.80      1407\n",
      "\n"
     ]
    }
   ],
   "source": [
    "print(classification_report(y_test,model.predict(X_test_4)))"
   ]
  },
  {
   "cell_type": "code",
   "execution_count": 130,
   "id": "44344ecd",
   "metadata": {},
   "outputs": [
    {
     "data": {
      "text/plain": [
       "0     1.364918\n",
       "1     2.818205\n",
       "2     1.922578\n",
       "3     7.044432\n",
       "4     2.572218\n",
       "5     2.289927\n",
       "6     2.796423\n",
       "7     1.738115\n",
       "8     2.003981\n",
       "9     2.143192\n",
       "10    1.884252\n",
       "11    2.580609\n",
       "12    2.634299\n",
       "13    1.902400\n",
       "14    3.080588\n",
       "15    1.772330\n",
       "16    1.218958\n",
       "Name: VIF, dtype: float64"
      ]
     },
     "execution_count": 130,
     "metadata": {},
     "output_type": "execute_result"
    }
   ],
   "source": [
    "from statsmodels.stats.outliers_influence import variance_inflation_factor\n",
    "vif = pd.DataFrame()\n",
    "vif['Features'] = X_train_4.columns\n",
    "vif['VIF'] = [variance_inflation_factor(X_train_4.values, i) for i in range(len(X_train_4.columns))]\n",
    "vif['VIF']"
   ]
  },
  {
   "cell_type": "markdown",
   "id": "3eb684cc",
   "metadata": {},
   "source": [
    "### 16. remove PaymentMethod_Electronic check"
   ]
  },
  {
   "cell_type": "code",
   "execution_count": 131,
   "id": "639583e4",
   "metadata": {},
   "outputs": [],
   "source": [
    "X_train_4 = X_train.drop(['MonthlyCharges','TotalCharges','PaymentMethod_Electronic check'] ,axis='columns')\n",
    "X_test_4 = X_test.drop(['MonthlyCharges','TotalCharges','PaymentMethod_Electronic check'] ,axis='columns')"
   ]
  },
  {
   "cell_type": "code",
   "execution_count": 132,
   "id": "2eeb428d",
   "metadata": {},
   "outputs": [
    {
     "data": {
      "text/plain": [
       "0.7998222222222222"
      ]
     },
     "execution_count": 132,
     "metadata": {},
     "output_type": "execute_result"
    }
   ],
   "source": [
    "model.fit(X_train_4, y_train)\n",
    "model.score(X_train_4, y_train)"
   ]
  },
  {
   "cell_type": "code",
   "execution_count": 133,
   "id": "3673483c",
   "metadata": {},
   "outputs": [
    {
     "data": {
      "text/plain": [
       "array([[926, 116],\n",
       "       [162, 203]])"
      ]
     },
     "execution_count": 133,
     "metadata": {},
     "output_type": "execute_result"
    }
   ],
   "source": [
    "metrics.confusion_matrix(y_test, model.predict(X_test_4))"
   ]
  },
  {
   "cell_type": "code",
   "execution_count": 134,
   "id": "bf5ba92f",
   "metadata": {},
   "outputs": [
    {
     "data": {
      "text/plain": [
       "0.8024164889836531"
      ]
     },
     "execution_count": 134,
     "metadata": {},
     "output_type": "execute_result"
    }
   ],
   "source": [
    "metrics.accuracy_score(y_test, model.predict(X_test_4))"
   ]
  },
  {
   "cell_type": "code",
   "execution_count": 135,
   "id": "1b048626",
   "metadata": {},
   "outputs": [
    {
     "name": "stdout",
     "output_type": "stream",
     "text": [
      "              precision    recall  f1-score   support\n",
      "\n",
      "           0       0.85      0.89      0.87      1042\n",
      "           1       0.64      0.56      0.59       365\n",
      "\n",
      "    accuracy                           0.80      1407\n",
      "   macro avg       0.74      0.72      0.73      1407\n",
      "weighted avg       0.80      0.80      0.80      1407\n",
      "\n"
     ]
    }
   ],
   "source": [
    "print(classification_report(y_test,model.predict(X_test_4)))"
   ]
  },
  {
   "cell_type": "code",
   "execution_count": 136,
   "id": "2c769b3c",
   "metadata": {},
   "outputs": [
    {
     "data": {
      "text/plain": [
       "0     1.351188\n",
       "1     2.812567\n",
       "2     1.923677\n",
       "3     7.127244\n",
       "4     2.439374\n",
       "5     2.289042\n",
       "6     2.647909\n",
       "7     1.741664\n",
       "8     2.004157\n",
       "9     2.144058\n",
       "10    1.886750\n",
       "11    2.576926\n",
       "12    2.624808\n",
       "13    1.917460\n",
       "14    3.086056\n",
       "15    1.398034\n",
       "16    1.239419\n",
       "Name: VIF, dtype: float64"
      ]
     },
     "execution_count": 136,
     "metadata": {},
     "output_type": "execute_result"
    }
   ],
   "source": [
    "from statsmodels.stats.outliers_influence import variance_inflation_factor\n",
    "vif = pd.DataFrame()\n",
    "vif['Features'] = X_train_4.columns\n",
    "vif['VIF'] = [variance_inflation_factor(X_train_4.values, i) for i in range(len(X_train_4.columns))]\n",
    "vif['VIF']"
   ]
  },
  {
   "cell_type": "markdown",
   "id": "82289f89",
   "metadata": {},
   "source": [
    "### 17. remove PaymentMethod_Mailed check"
   ]
  },
  {
   "cell_type": "code",
   "execution_count": 137,
   "id": "3a72b39a",
   "metadata": {},
   "outputs": [],
   "source": [
    "X_train_4 = X_train.drop(['MonthlyCharges','TotalCharges','PaymentMethod_Mailed check'] ,axis='columns')\n",
    "X_test_4 = X_test.drop(['MonthlyCharges','TotalCharges','PaymentMethod_Mailed check'] ,axis='columns')"
   ]
  },
  {
   "cell_type": "code",
   "execution_count": 138,
   "id": "103125b8",
   "metadata": {},
   "outputs": [
    {
     "data": {
      "text/plain": [
       "0.8017777777777778"
      ]
     },
     "execution_count": 138,
     "metadata": {},
     "output_type": "execute_result"
    }
   ],
   "source": [
    "model.fit(X_train_4, y_train)\n",
    "model.score(X_train_4, y_train)"
   ]
  },
  {
   "cell_type": "code",
   "execution_count": 139,
   "id": "af1ba6ba",
   "metadata": {},
   "outputs": [
    {
     "data": {
      "text/plain": [
       "array([[921, 121],\n",
       "       [160, 205]])"
      ]
     },
     "execution_count": 139,
     "metadata": {},
     "output_type": "execute_result"
    }
   ],
   "source": [
    "metrics.confusion_matrix(y_test, model.predict(X_test_4))"
   ]
  },
  {
   "cell_type": "code",
   "execution_count": 140,
   "id": "28c6c5df",
   "metadata": {},
   "outputs": [
    {
     "data": {
      "text/plain": [
       "0.8002842928216063"
      ]
     },
     "execution_count": 140,
     "metadata": {},
     "output_type": "execute_result"
    }
   ],
   "source": [
    "metrics.accuracy_score(y_test, model.predict(X_test_4))"
   ]
  },
  {
   "cell_type": "code",
   "execution_count": 141,
   "id": "d1e804ac",
   "metadata": {},
   "outputs": [
    {
     "name": "stdout",
     "output_type": "stream",
     "text": [
      "              precision    recall  f1-score   support\n",
      "\n",
      "           0       0.85      0.88      0.87      1042\n",
      "           1       0.63      0.56      0.59       365\n",
      "\n",
      "    accuracy                           0.80      1407\n",
      "   macro avg       0.74      0.72      0.73      1407\n",
      "weighted avg       0.79      0.80      0.80      1407\n",
      "\n"
     ]
    }
   ],
   "source": [
    "print(classification_report(y_test,model.predict(X_test_4)))"
   ]
  },
  {
   "cell_type": "code",
   "execution_count": 142,
   "id": "2fd16035",
   "metadata": {},
   "outputs": [
    {
     "data": {
      "text/plain": [
       "0     1.365981\n",
       "1     2.815682\n",
       "2     1.891134\n",
       "3     7.121214\n",
       "4     2.514462\n",
       "5     2.290571\n",
       "6     2.809291\n",
       "7     1.739164\n",
       "8     2.004055\n",
       "9     2.142288\n",
       "10    1.884058\n",
       "11    2.576355\n",
       "12    2.632002\n",
       "13    1.863449\n",
       "14    3.036699\n",
       "15    1.468675\n",
       "16    1.893136\n",
       "Name: VIF, dtype: float64"
      ]
     },
     "execution_count": 142,
     "metadata": {},
     "output_type": "execute_result"
    }
   ],
   "source": [
    "from statsmodels.stats.outliers_influence import variance_inflation_factor\n",
    "vif = pd.DataFrame()\n",
    "vif['Features'] = X_train_4.columns\n",
    "vif['VIF'] = [variance_inflation_factor(X_train_4.values, i) for i in range(len(X_train_4.columns))]\n",
    "vif['VIF']"
   ]
  },
  {
   "cell_type": "markdown",
   "id": "86e17194",
   "metadata": {},
   "source": [
    "### final model"
   ]
  },
  {
   "cell_type": "code",
   "execution_count": 143,
   "id": "e16d9eab",
   "metadata": {},
   "outputs": [],
   "source": [
    "X_train_4 = X_train.drop(['MonthlyCharges','TotalCharges','Partner','Dependents','OnlineBackup_Yes','DeviceProtection_Yes','StreamingTV_Yes','StreamingMovies_Yes','Contract_Two year',\n",
    "                          'PaymentMethod_Credit card (automatic)','PaymentMethod_Electronic check','PaymentMethod_Mailed check'] ,axis='columns')\n",
    "X_test_4 = X_test.drop(['MonthlyCharges','TotalCharges','Partner','Dependents','OnlineBackup_Yes','DeviceProtection_Yes','StreamingTV_Yes','StreamingMovies_Yes','Contract_Two year',\n",
    "                          'PaymentMethod_Credit card (automatic)','PaymentMethod_Electronic check','PaymentMethod_Mailed check'] ,axis='columns')"
   ]
  },
  {
   "cell_type": "code",
   "execution_count": 144,
   "id": "5553344f",
   "metadata": {},
   "outputs": [
    {
     "data": {
      "text/plain": [
       "0.7962666666666667"
      ]
     },
     "execution_count": 144,
     "metadata": {},
     "output_type": "execute_result"
    }
   ],
   "source": [
    "model.fit(X_train_4, y_train)\n",
    "model.score(X_train_4, y_train)"
   ]
  },
  {
   "cell_type": "code",
   "execution_count": 145,
   "id": "9e3ae4e0",
   "metadata": {},
   "outputs": [
    {
     "data": {
      "text/plain": [
       "array([[937, 105],\n",
       "       [172, 193]])"
      ]
     },
     "execution_count": 145,
     "metadata": {},
     "output_type": "execute_result"
    }
   ],
   "source": [
    "metrics.confusion_matrix(y_test, model.predict(X_test_4))"
   ]
  },
  {
   "cell_type": "code",
   "execution_count": 146,
   "id": "9d672938",
   "metadata": {},
   "outputs": [
    {
     "data": {
      "text/plain": [
       "0.8031272210376688"
      ]
     },
     "execution_count": 146,
     "metadata": {},
     "output_type": "execute_result"
    }
   ],
   "source": [
    "metrics.accuracy_score(y_test, model.predict(X_test_4))"
   ]
  },
  {
   "cell_type": "code",
   "execution_count": 147,
   "id": "5ed7f82f",
   "metadata": {},
   "outputs": [
    {
     "data": {
      "text/plain": [
       "array([-0.92609316])"
      ]
     },
     "execution_count": 147,
     "metadata": {},
     "output_type": "execute_result"
    }
   ],
   "source": [
    "model.intercept_"
   ]
  },
  {
   "cell_type": "code",
   "execution_count": 148,
   "id": "9b085582",
   "metadata": {},
   "outputs": [
    {
     "data": {
      "text/plain": [
       "array([[ 0.39920641, -0.04334066,  0.58704007,  0.26476369,  1.37991358,\n",
       "        -0.19858917, -0.27232593, -0.42169448]])"
      ]
     },
     "execution_count": 148,
     "metadata": {},
     "output_type": "execute_result"
    }
   ],
   "source": [
    "model.coef_"
   ]
  },
  {
   "cell_type": "code",
   "execution_count": 149,
   "id": "ce2b25ea",
   "metadata": {},
   "outputs": [
    {
     "name": "stdout",
     "output_type": "stream",
     "text": [
      "              precision    recall  f1-score   support\n",
      "\n",
      "           0       0.84      0.90      0.87      1042\n",
      "           1       0.65      0.53      0.58       365\n",
      "\n",
      "    accuracy                           0.80      1407\n",
      "   macro avg       0.75      0.71      0.73      1407\n",
      "weighted avg       0.79      0.80      0.80      1407\n",
      "\n"
     ]
    }
   ],
   "source": [
    "print(classification_report(y_test,model.predict(X_test_4)))"
   ]
  },
  {
   "cell_type": "code",
   "execution_count": 150,
   "id": "fb222d5f",
   "metadata": {},
   "outputs": [
    {
     "data": {
      "text/plain": [
       "0    1.293039\n",
       "1    3.027538\n",
       "2    2.258015\n",
       "3    2.275567\n",
       "4    2.263504\n",
       "5    1.672532\n",
       "6    1.698767\n",
       "7    1.302224\n",
       "Name: VIF, dtype: float64"
      ]
     },
     "execution_count": 150,
     "metadata": {},
     "output_type": "execute_result"
    }
   ],
   "source": [
    "from statsmodels.stats.outliers_influence import variance_inflation_factor\n",
    "vif = pd.DataFrame()\n",
    "vif['Features'] = X_train_4.columns\n",
    "vif['VIF'] = [variance_inflation_factor(X_train_4.values, i) for i in range(len(X_train_4.columns))]\n",
    "vif['VIF']"
   ]
  },
  {
   "cell_type": "code",
   "execution_count": 151,
   "id": "33392217",
   "metadata": {},
   "outputs": [
    {
     "data": {
      "text/plain": [
       "Index(['SeniorCitizen', 'tenure', 'PaperlessBilling', 'MultipleLines_Yes',\n",
       "       'InternetService_Fiber optic', 'OnlineSecurity_Yes', 'TechSupport_Yes',\n",
       "       'Contract_One year'],\n",
       "      dtype='object')"
      ]
     },
     "execution_count": 151,
     "metadata": {},
     "output_type": "execute_result"
    }
   ],
   "source": [
    "X_train_4.columns"
   ]
  }
 ],
 "metadata": {
  "environment": {
   "name": "common-cpu.m69",
   "type": "gcloud",
   "uri": "gcr.io/deeplearning-platform-release/base-cpu:m69"
  },
  "kernelspec": {
   "display_name": "Python 3",
   "language": "python",
   "name": "python3"
  },
  "language_info": {
   "codemirror_mode": {
    "name": "ipython",
    "version": 3
   },
   "file_extension": ".py",
   "mimetype": "text/x-python",
   "name": "python",
   "nbconvert_exporter": "python",
   "pygments_lexer": "ipython3",
   "version": "3.7.10"
  }
 },
 "nbformat": 4,
 "nbformat_minor": 5
}
